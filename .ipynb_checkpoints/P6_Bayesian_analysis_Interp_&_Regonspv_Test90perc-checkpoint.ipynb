{
 "cells": [
  {
   "cell_type": "markdown",
   "metadata": {},
   "source": [
    "# Bayesian analysis and modern machine learning algorithms applied for soil and rock probabilistic characterization "
   ]
  },
  {
   "cell_type": "markdown",
   "metadata": {},
   "source": [
    "## Introduction"
   ]
  },
  {
   "cell_type": "markdown",
   "metadata": {},
   "source": [
    "Modern programming languages made easier the use of statistical analysis of large amount of data. \n",
    "The Bayesian analysis is helpful to update knowledge of something.\n",
    "Is particularly indicated when we have to deal with classification. \n",
    "This is why it is helpful when appled to geotechnical material.\n",
    "The instrument we are going to use is pandas packages under python code for what concern the data manipulation.\n",
    "The sklearn package and in particular SNN classification will be used in order to verify the omogeneity of the selected sample with respect to the other material obtained from other sample.\n",
    "Successively we are going to use the package pcm3 for the bayesian analysis\n",
    "An online database by means of Mysql open source will keep storage of the soil material and will be helpful for future analyis.\n",
    "The criteria of storing data will be also the geografical area linked to climate and geological period, local atmosfere (lake, sea, desertic) and load history. This will be helpful to assimilate similar soil.\n",
    "\n"
   ]
  },
  {
   "cell_type": "markdown",
   "metadata": {},
   "source": [
    "## Python packages to deal with data"
   ]
  },
  {
   "cell_type": "markdown",
   "metadata": {},
   "source": [
    "We will make extensive use of Pandas packages to deal with data. This packages offer the peculiarity to communicate with a huge amount of data protocols like html, json, xls, db, csv and is constantly update to accomodate recent development like supporting the hdf format that is a development of the csv format but much faster and disk space optimization.\n",
    "The following code show how this package will be use to upload data from the excel file."
   ]
  },
  {
   "cell_type": "code",
   "execution_count": 1,
   "metadata": {},
   "outputs": [],
   "source": [
    "import sys"
   ]
  },
  {
   "cell_type": "code",
   "execution_count": 2,
   "metadata": {},
   "outputs": [],
   "source": [
    "#!conda install --yes --prefix {sys.prefix} m2w64-toolchain\n",
    "# after it add to PATH\n",
    "# ...Anaconda3\\pkgs\\m2w64-gcc-5.3.0-6\\Library\\mingw-w64\\bin"
   ]
  },
  {
   "cell_type": "code",
   "execution_count": 3,
   "metadata": {},
   "outputs": [],
   "source": [
    "# nota pymc3 requires an old version of numpy to work --> No with 1.16.5 is working\n",
    "# Install a conda package in the current Jupyter kernel\n",
    "# !conda install --yes --prefix {sys.prefix} numpy==1.15.0"
   ]
  },
  {
   "cell_type": "code",
   "execution_count": 4,
   "metadata": {},
   "outputs": [],
   "source": [
    "#!conda install --yes --prefix {sys.prefix} pymc3"
   ]
  },
  {
   "cell_type": "code",
   "execution_count": 5,
   "metadata": {},
   "outputs": [],
   "source": [
    "import pandas as pd\n",
    "# we set pandas options in order to enlarge the row/columns visualization\n",
    "pd.set_option('display.max_rows', 20)\n",
    "pd.set_option('display.max_columns', 500)\n",
    "pd.set_option('display.width', 1000)\n",
    "import numpy as np"
   ]
  },
  {
   "cell_type": "code",
   "execution_count": 6,
   "metadata": {},
   "outputs": [],
   "source": [
    "# Import matplotlib for graphs\n",
    "import matplotlib.pyplot as plt\n",
    "%matplotlib inline\n",
    "\n",
    "import matplotlib\n",
    "matplotlib.rcParams['font.size'] = 16\n",
    "matplotlib.rcParams['figure.figsize'] = (9, 9)\n",
    "\n",
    "from IPython.core.pylabtools import figsize\n",
    "\n",
    "plt.style.use('seaborn-pastel')\n",
    "\n",
    "import seaborn as sns\n",
    "# meglio non settare  sns\n",
    "# sns.set()\n",
    "# sns.set_context('talk')\n",
    "# sns.set_style('whitegrid')\n",
    "# sns.set_palette(\"husl\")\n",
    "\n",
    "# Scipy helper functions\n",
    "from scipy.stats import percentileofscore\n",
    "from scipy import stats"
   ]
  },
  {
   "cell_type": "code",
   "execution_count": 7,
   "metadata": {},
   "outputs": [],
   "source": [
    "# Standard ML Models for comparison\n",
    "from sklearn.linear_model           import LinearRegression\n",
    "from sklearn.linear_model           import ElasticNet\n",
    "from sklearn.ensemble               import RandomForestRegressor\n",
    "from sklearn.ensemble               import ExtraTreesRegressor\n",
    "from sklearn.ensemble               import GradientBoostingRegressor\n",
    "from sklearn.svm                    import SVR\n",
    "\n",
    "from sklearn                        import metrics, svm\n",
    "from sklearn.linear_model           import LogisticRegression\n",
    "from sklearn.tree                   import DecisionTreeClassifier\n",
    "from sklearn.neighbors              import KNeighborsClassifier\n",
    "from sklearn.discriminant_analysis  import LinearDiscriminantAnalysis\n",
    "from sklearn.naive_bayes            import GaussianNB\n",
    "from sklearn.svm                    import SVC\n",
    "from sklearn.ensemble               import RandomForestClassifier\n",
    "\n",
    "from sklearn.metrics import accuracy_score, confusion_matrix, classification_report"
   ]
  },
  {
   "cell_type": "code",
   "execution_count": 8,
   "metadata": {},
   "outputs": [],
   "source": [
    "# Splitting data into training/testing\n",
    "from sklearn.model_selection import train_test_split\n",
    "from sklearn.preprocessing import MinMaxScaler\n",
    "\n",
    "# Metrics\n",
    "from sklearn.metrics import mean_squared_error, mean_absolute_error, median_absolute_error\n",
    "\n",
    "# Distributions\n",
    "import scipy"
   ]
  },
  {
   "cell_type": "code",
   "execution_count": 9,
   "metadata": {},
   "outputs": [
    {
     "name": "stderr",
     "output_type": "stream",
     "text": [
      "WARNING (theano.configdefaults): g++ not available, if using conda: `conda install m2w64-toolchain`\n",
      "C:\\ProgramData\\Anaconda3_1\\lib\\site-packages\\theano\\configdefaults.py:560: UserWarning: DeprecationWarning: there is no c++ compiler.This is deprecated and with Theano 0.11 a c++ compiler will be mandatory\n",
      "  warnings.warn(\"DeprecationWarning: there is no c++ compiler.\"\n",
      "WARNING (theano.configdefaults): g++ not detected ! Theano will be unable to execute optimized C-implementations (for both CPU and GPU) and will default to Python implementations. Performance will be severely degraded. To remove this warning, set Theano flags cxx to an empty string.\n",
      "WARNING (theano.tensor.blas): Using NumPy C-API based implementation for BLAS functions.\n",
      "C:\\ProgramData\\Anaconda3_1\\lib\\site-packages\\xarray\\core\\merge.py:17: FutureWarning: The Panel class is removed from pandas. Accessing it from the top-level namespace will also be removed in the next version\n",
      "  PANDAS_TYPES = (pd.Series, pd.DataFrame, pd.Panel)\n"
     ]
    }
   ],
   "source": [
    "# PyMC3 for Bayesian Inference\n",
    "import pymc3 as pm"
   ]
  },
  {
   "cell_type": "markdown",
   "metadata": {},
   "source": [
    "Open Xlsx file"
   ]
  },
  {
   "cell_type": "code",
   "execution_count": 10,
   "metadata": {},
   "outputs": [],
   "source": [
    "xls = pd.ExcelFile('geotech1.xlsx')"
   ]
  },
  {
   "cell_type": "code",
   "execution_count": 11,
   "metadata": {},
   "outputs": [
    {
     "data": {
      "text/plain": [
       "['Caratt_Compl']"
      ]
     },
     "execution_count": 11,
     "metadata": {},
     "output_type": "execute_result"
    }
   ],
   "source": [
    "sheetsls = xls.sheet_names\n",
    "sheetsls"
   ]
  },
  {
   "cell_type": "code",
   "execution_count": 12,
   "metadata": {},
   "outputs": [],
   "source": [
    "df1 = pd.read_excel(xls, sheetsls[0])"
   ]
  },
  {
   "cell_type": "code",
   "execution_count": null,
   "metadata": {
    "scrolled": true
   },
   "outputs": [],
   "source": []
  },
  {
   "cell_type": "markdown",
   "metadata": {},
   "source": [
    "Create a DataFrame by cleaning all missing data"
   ]
  },
  {
   "cell_type": "code",
   "execution_count": 13,
   "metadata": {},
   "outputs": [
    {
     "data": {
      "text/html": [
       "<div>\n",
       "<style scoped>\n",
       "    .dataframe tbody tr th:only-of-type {\n",
       "        vertical-align: middle;\n",
       "    }\n",
       "\n",
       "    .dataframe tbody tr th {\n",
       "        vertical-align: top;\n",
       "    }\n",
       "\n",
       "    .dataframe thead th {\n",
       "        text-align: right;\n",
       "    }\n",
       "</style>\n",
       "<table border=\"1\" class=\"dataframe\">\n",
       "  <thead>\n",
       "    <tr style=\"text-align: right;\">\n",
       "      <th></th>\n",
       "      <th>Zarr0,25_m</th>\n",
       "      <th>σ^v_[kPa]</th>\n",
       "      <th>gwet</th>\n",
       "      <th>wn</th>\n",
       "      <th>wopt</th>\n",
       "      <th>CaCo3</th>\n",
       "      <th>Sr_[p]</th>\n",
       "      <th>LL_[p]</th>\n",
       "      <th>PI_[p]</th>\n",
       "      <th>Ic</th>\n",
       "      <th>OCROED</th>\n",
       "      <th>OCRTX</th>\n",
       "      <th>e0</th>\n",
       "      <th>Cc</th>\n",
       "      <th>Ce</th>\n",
       "      <th>(N1)60</th>\n",
       "      <th>cTX</th>\n",
       "      <th>ϕTX</th>\n",
       "      <th>c^TX</th>\n",
       "      <th>ϕ^TX</th>\n",
       "      <th>Cu</th>\n",
       "      <th>OCR</th>\n",
       "      <th>cDSS</th>\n",
       "      <th>ϕDSS</th>\n",
       "      <th>CU,VANE</th>\n",
       "      <th>Ep1_Mpa</th>\n",
       "      <th>Pl_Mpa</th>\n",
       "      <th>Em/Pl</th>\n",
       "      <th>WL.1</th>\n",
       "      <th>PI.1</th>\n",
       "      <th>Cu,Ucs</th>\n",
       "    </tr>\n",
       "  </thead>\n",
       "  <tbody>\n",
       "    <tr>\n",
       "      <td>count</td>\n",
       "      <td>596.000000</td>\n",
       "      <td>596.000000</td>\n",
       "      <td>65.000000</td>\n",
       "      <td>148.000000</td>\n",
       "      <td>6.000000</td>\n",
       "      <td>10.000000</td>\n",
       "      <td>27.000000</td>\n",
       "      <td>136.000000</td>\n",
       "      <td>136.000000</td>\n",
       "      <td>66.000000</td>\n",
       "      <td>31.000000</td>\n",
       "      <td>26.000000</td>\n",
       "      <td>37.000000</td>\n",
       "      <td>32.000000</td>\n",
       "      <td>32.000000</td>\n",
       "      <td>268.000000</td>\n",
       "      <td>29.000000</td>\n",
       "      <td>29.000000</td>\n",
       "      <td>36.000000</td>\n",
       "      <td>36.000000</td>\n",
       "      <td>26.000000</td>\n",
       "      <td>26.000000</td>\n",
       "      <td>5.000000</td>\n",
       "      <td>5.000000</td>\n",
       "      <td>58.000000</td>\n",
       "      <td>42.000000</td>\n",
       "      <td>42.000000</td>\n",
       "      <td>42.000000</td>\n",
       "      <td>31.000000</td>\n",
       "      <td>31.000000</td>\n",
       "      <td>8.000000</td>\n",
       "    </tr>\n",
       "    <tr>\n",
       "      <td>mean</td>\n",
       "      <td>20.061242</td>\n",
       "      <td>227.917911</td>\n",
       "      <td>17.852769</td>\n",
       "      <td>32.136696</td>\n",
       "      <td>19.583333</td>\n",
       "      <td>30.817000</td>\n",
       "      <td>0.961852</td>\n",
       "      <td>73.522059</td>\n",
       "      <td>43.404412</td>\n",
       "      <td>0.709168</td>\n",
       "      <td>2.712903</td>\n",
       "      <td>3.571991</td>\n",
       "      <td>1.167946</td>\n",
       "      <td>0.450594</td>\n",
       "      <td>0.081656</td>\n",
       "      <td>15.062256</td>\n",
       "      <td>46.965517</td>\n",
       "      <td>17.172414</td>\n",
       "      <td>30.833333</td>\n",
       "      <td>24.777778</td>\n",
       "      <td>186.439666</td>\n",
       "      <td>3.571991</td>\n",
       "      <td>22.600000</td>\n",
       "      <td>13.600000</td>\n",
       "      <td>253.327586</td>\n",
       "      <td>13.766667</td>\n",
       "      <td>0.721905</td>\n",
       "      <td>28.477894</td>\n",
       "      <td>78.612903</td>\n",
       "      <td>46.709677</td>\n",
       "      <td>163.668750</td>\n",
       "    </tr>\n",
       "    <tr>\n",
       "      <td>std</td>\n",
       "      <td>13.811707</td>\n",
       "      <td>127.204534</td>\n",
       "      <td>0.979376</td>\n",
       "      <td>16.924352</td>\n",
       "      <td>1.734839</td>\n",
       "      <td>7.983576</td>\n",
       "      <td>0.043504</td>\n",
       "      <td>16.601636</td>\n",
       "      <td>13.290140</td>\n",
       "      <td>0.214630</td>\n",
       "      <td>1.259826</td>\n",
       "      <td>2.130319</td>\n",
       "      <td>0.233693</td>\n",
       "      <td>0.170711</td>\n",
       "      <td>0.032962</td>\n",
       "      <td>9.284723</td>\n",
       "      <td>28.031211</td>\n",
       "      <td>4.480665</td>\n",
       "      <td>24.961113</td>\n",
       "      <td>5.483019</td>\n",
       "      <td>73.251474</td>\n",
       "      <td>2.130319</td>\n",
       "      <td>16.682326</td>\n",
       "      <td>2.701851</td>\n",
       "      <td>134.300186</td>\n",
       "      <td>9.782679</td>\n",
       "      <td>0.545175</td>\n",
       "      <td>32.095831</td>\n",
       "      <td>13.169858</td>\n",
       "      <td>10.096843</td>\n",
       "      <td>68.002825</td>\n",
       "    </tr>\n",
       "    <tr>\n",
       "      <td>min</td>\n",
       "      <td>0.750000</td>\n",
       "      <td>13.500000</td>\n",
       "      <td>13.340000</td>\n",
       "      <td>0.270000</td>\n",
       "      <td>16.700000</td>\n",
       "      <td>20.000000</td>\n",
       "      <td>0.810000</td>\n",
       "      <td>31.000000</td>\n",
       "      <td>11.000000</td>\n",
       "      <td>-0.250000</td>\n",
       "      <td>1.000000</td>\n",
       "      <td>1.347558</td>\n",
       "      <td>0.623000</td>\n",
       "      <td>0.098000</td>\n",
       "      <td>0.001000</td>\n",
       "      <td>5.081337</td>\n",
       "      <td>5.000000</td>\n",
       "      <td>9.000000</td>\n",
       "      <td>0.000000</td>\n",
       "      <td>17.000000</td>\n",
       "      <td>68.744449</td>\n",
       "      <td>1.347558</td>\n",
       "      <td>5.000000</td>\n",
       "      <td>9.000000</td>\n",
       "      <td>23.000000</td>\n",
       "      <td>1.900000</td>\n",
       "      <td>0.150000</td>\n",
       "      <td>7.142857</td>\n",
       "      <td>58.000000</td>\n",
       "      <td>30.000000</td>\n",
       "      <td>38.950000</td>\n",
       "    </tr>\n",
       "    <tr>\n",
       "      <td>25%</td>\n",
       "      <td>8.500000</td>\n",
       "      <td>123.843750</td>\n",
       "      <td>17.460000</td>\n",
       "      <td>27.850000</td>\n",
       "      <td>18.775000</td>\n",
       "      <td>25.647500</td>\n",
       "      <td>0.950000</td>\n",
       "      <td>65.000000</td>\n",
       "      <td>34.000000</td>\n",
       "      <td>0.614560</td>\n",
       "      <td>2.000000</td>\n",
       "      <td>2.069353</td>\n",
       "      <td>0.991000</td>\n",
       "      <td>0.316000</td>\n",
       "      <td>0.066000</td>\n",
       "      <td>9.519735</td>\n",
       "      <td>23.000000</td>\n",
       "      <td>15.000000</td>\n",
       "      <td>10.000000</td>\n",
       "      <td>19.750000</td>\n",
       "      <td>122.822503</td>\n",
       "      <td>2.069353</td>\n",
       "      <td>17.000000</td>\n",
       "      <td>14.000000</td>\n",
       "      <td>151.000000</td>\n",
       "      <td>4.425000</td>\n",
       "      <td>0.200000</td>\n",
       "      <td>12.817391</td>\n",
       "      <td>70.000000</td>\n",
       "      <td>40.000000</td>\n",
       "      <td>133.225000</td>\n",
       "    </tr>\n",
       "    <tr>\n",
       "      <td>50%</td>\n",
       "      <td>17.625000</td>\n",
       "      <td>216.000000</td>\n",
       "      <td>17.900000</td>\n",
       "      <td>35.400000</td>\n",
       "      <td>20.500000</td>\n",
       "      <td>29.500000</td>\n",
       "      <td>0.970000</td>\n",
       "      <td>73.500000</td>\n",
       "      <td>43.500000</td>\n",
       "      <td>0.711982</td>\n",
       "      <td>2.500000</td>\n",
       "      <td>2.800998</td>\n",
       "      <td>1.179000</td>\n",
       "      <td>0.425500</td>\n",
       "      <td>0.086000</td>\n",
       "      <td>12.432293</td>\n",
       "      <td>45.000000</td>\n",
       "      <td>16.000000</td>\n",
       "      <td>25.000000</td>\n",
       "      <td>24.000000</td>\n",
       "      <td>202.969366</td>\n",
       "      <td>2.800998</td>\n",
       "      <td>18.000000</td>\n",
       "      <td>14.000000</td>\n",
       "      <td>241.000000</td>\n",
       "      <td>13.600000</td>\n",
       "      <td>0.655000</td>\n",
       "      <td>14.686275</td>\n",
       "      <td>78.000000</td>\n",
       "      <td>46.000000</td>\n",
       "      <td>160.050000</td>\n",
       "    </tr>\n",
       "    <tr>\n",
       "      <td>75%</td>\n",
       "      <td>29.000000</td>\n",
       "      <td>308.500000</td>\n",
       "      <td>18.420000</td>\n",
       "      <td>44.525000</td>\n",
       "      <td>20.500000</td>\n",
       "      <td>36.092500</td>\n",
       "      <td>0.995000</td>\n",
       "      <td>83.000000</td>\n",
       "      <td>51.000000</td>\n",
       "      <td>0.853235</td>\n",
       "      <td>3.050000</td>\n",
       "      <td>4.897160</td>\n",
       "      <td>1.337000</td>\n",
       "      <td>0.594500</td>\n",
       "      <td>0.101500</td>\n",
       "      <td>17.241599</td>\n",
       "      <td>68.000000</td>\n",
       "      <td>19.000000</td>\n",
       "      <td>50.000000</td>\n",
       "      <td>28.000000</td>\n",
       "      <td>232.352324</td>\n",
       "      <td>4.897160</td>\n",
       "      <td>23.000000</td>\n",
       "      <td>15.000000</td>\n",
       "      <td>324.250000</td>\n",
       "      <td>17.975000</td>\n",
       "      <td>1.250000</td>\n",
       "      <td>24.983333</td>\n",
       "      <td>87.000000</td>\n",
       "      <td>55.000000</td>\n",
       "      <td>216.887500</td>\n",
       "    </tr>\n",
       "    <tr>\n",
       "      <td>max</td>\n",
       "      <td>66.500000</td>\n",
       "      <td>609.750000</td>\n",
       "      <td>20.440000</td>\n",
       "      <td>57.200000</td>\n",
       "      <td>21.100000</td>\n",
       "      <td>42.000000</td>\n",
       "      <td>1.000000</td>\n",
       "      <td>109.000000</td>\n",
       "      <td>79.000000</td>\n",
       "      <td>1.212121</td>\n",
       "      <td>6.200000</td>\n",
       "      <td>10.490107</td>\n",
       "      <td>1.671000</td>\n",
       "      <td>0.831000</td>\n",
       "      <td>0.140000</td>\n",
       "      <td>67.681053</td>\n",
       "      <td>110.000000</td>\n",
       "      <td>29.000000</td>\n",
       "      <td>80.000000</td>\n",
       "      <td>37.000000</td>\n",
       "      <td>309.781238</td>\n",
       "      <td>10.490107</td>\n",
       "      <td>50.000000</td>\n",
       "      <td>16.000000</td>\n",
       "      <td>530.000000</td>\n",
       "      <td>43.500000</td>\n",
       "      <td>1.700000</td>\n",
       "      <td>166.470588</td>\n",
       "      <td>105.000000</td>\n",
       "      <td>65.000000</td>\n",
       "      <td>245.750000</td>\n",
       "    </tr>\n",
       "  </tbody>\n",
       "</table>\n",
       "</div>"
      ],
      "text/plain": [
       "       Zarr0,25_m   σ^v_[kPa]       gwet          wn       wopt      CaCo3     Sr_[p]      LL_[p]      PI_[p]         Ic     OCROED      OCRTX         e0         Cc         Ce      (N1)60         cTX        ϕTX       c^TX       ϕ^TX          Cu        OCR       cDSS       ϕDSS     CU,VANE    Ep1_Mpa     Pl_Mpa       Em/Pl        WL.1       PI.1      Cu,Ucs\n",
       "count  596.000000  596.000000  65.000000  148.000000   6.000000  10.000000  27.000000  136.000000  136.000000  66.000000  31.000000  26.000000  37.000000  32.000000  32.000000  268.000000   29.000000  29.000000  36.000000  36.000000   26.000000  26.000000   5.000000   5.000000   58.000000  42.000000  42.000000   42.000000   31.000000  31.000000    8.000000\n",
       "mean    20.061242  227.917911  17.852769   32.136696  19.583333  30.817000   0.961852   73.522059   43.404412   0.709168   2.712903   3.571991   1.167946   0.450594   0.081656   15.062256   46.965517  17.172414  30.833333  24.777778  186.439666   3.571991  22.600000  13.600000  253.327586  13.766667   0.721905   28.477894   78.612903  46.709677  163.668750\n",
       "std     13.811707  127.204534   0.979376   16.924352   1.734839   7.983576   0.043504   16.601636   13.290140   0.214630   1.259826   2.130319   0.233693   0.170711   0.032962    9.284723   28.031211   4.480665  24.961113   5.483019   73.251474   2.130319  16.682326   2.701851  134.300186   9.782679   0.545175   32.095831   13.169858  10.096843   68.002825\n",
       "min      0.750000   13.500000  13.340000    0.270000  16.700000  20.000000   0.810000   31.000000   11.000000  -0.250000   1.000000   1.347558   0.623000   0.098000   0.001000    5.081337    5.000000   9.000000   0.000000  17.000000   68.744449   1.347558   5.000000   9.000000   23.000000   1.900000   0.150000    7.142857   58.000000  30.000000   38.950000\n",
       "25%      8.500000  123.843750  17.460000   27.850000  18.775000  25.647500   0.950000   65.000000   34.000000   0.614560   2.000000   2.069353   0.991000   0.316000   0.066000    9.519735   23.000000  15.000000  10.000000  19.750000  122.822503   2.069353  17.000000  14.000000  151.000000   4.425000   0.200000   12.817391   70.000000  40.000000  133.225000\n",
       "50%     17.625000  216.000000  17.900000   35.400000  20.500000  29.500000   0.970000   73.500000   43.500000   0.711982   2.500000   2.800998   1.179000   0.425500   0.086000   12.432293   45.000000  16.000000  25.000000  24.000000  202.969366   2.800998  18.000000  14.000000  241.000000  13.600000   0.655000   14.686275   78.000000  46.000000  160.050000\n",
       "75%     29.000000  308.500000  18.420000   44.525000  20.500000  36.092500   0.995000   83.000000   51.000000   0.853235   3.050000   4.897160   1.337000   0.594500   0.101500   17.241599   68.000000  19.000000  50.000000  28.000000  232.352324   4.897160  23.000000  15.000000  324.250000  17.975000   1.250000   24.983333   87.000000  55.000000  216.887500\n",
       "max     66.500000  609.750000  20.440000   57.200000  21.100000  42.000000   1.000000  109.000000   79.000000   1.212121   6.200000  10.490107   1.671000   0.831000   0.140000   67.681053  110.000000  29.000000  80.000000  37.000000  309.781238  10.490107  50.000000  16.000000  530.000000  43.500000   1.700000  166.470588  105.000000  65.000000  245.750000"
      ]
     },
     "execution_count": 13,
     "metadata": {},
     "output_type": "execute_result"
    }
   ],
   "source": [
    "df=df1.copy()\n",
    "df.columns=df.columns+' '+df.iloc[0,:].astype('str')\n",
    "df.columns = df.columns.str.replace('nan','')\n",
    "df.columns = df.columns.str.replace(' 611','')\n",
    "df.columns = df.columns.str.replace(\"'\",'^')\n",
    "df.columns = df.columns.str.replace(\"%\",'[p]')\n",
    "df.columns = df.columns.str.replace(\"j\",'ϕ')\n",
    "df.drop([0,1], axis='rows', inplace=True)\n",
    "df.dropna(axis='columns', thresh=5, inplace=True)\n",
    "df.dropna(axis='rows', thresh=9, inplace=True)\n",
    "\n",
    "# Select the desired columns\n",
    "\n",
    "df=df[['Zarr0,25 m','σ^v [kPa]', 'gwet ', 'wn ', 'wopt ', 'CaCo3 ',\n",
    "       'Sr [p]', 'LL [p]', 'PI [p]', 'Ic ', 'OCROED [-]', 'OCRTX [-]',\n",
    "       'e0 [-]', 'Cc [-]', 'Ce [-]', '(N1)60 ',\n",
    "       'cTX ', 'ϕTX ', 'c^TX ', 'ϕ^TX ', 'Cu ', 'OCR ',\n",
    "       'cDSS ', 'ϕDSS ', 'CU,VANE ', 'Ep1 Mpa', 'Pl Mpa', 'Em/Pl ', 'WL.1 ', 'PI.1 ',\n",
    "       'Cu,Ucs ']]\n",
    "\n",
    "# correct the columns name\n",
    "\n",
    "df.columns = df.columns.str.replace(\" \",'_')\n",
    "df.columns = df.columns.str.replace('\\[-\\]$','')\n",
    "df.columns = df.columns.str.replace('_$','')\n",
    "\n",
    "# correct the column type and plot statistics\n",
    "\n",
    "df=df.astype('float')\n",
    "df.describe()\n"
   ]
  },
  {
   "cell_type": "markdown",
   "metadata": {},
   "source": [
    "From the above we notice that:\n",
    "- Water content wn should be expressed in percentage but some data are not (min value 0.27) we will drop values < 1\n",
    "- Sr should be expressed in percentage but is not (maximum value is 1)\n",
    "- OCR and OCRTx are the same column we will replace the column OCR by the mean of the 2\n",
    "\n",
    "The describe function permit to evaluate only data that permits statistics, we will then reduce the dataframe to such columns"
   ]
  },
  {
   "cell_type": "code",
   "execution_count": 14,
   "metadata": {},
   "outputs": [],
   "source": [
    "# correct wn values \n",
    "df['wn']=df['wn'].apply(lambda x: x if (x>1) else x*100)\n",
    "\n",
    "# joint similar data\n",
    "df['OCR'] = df[[\"OCROED\",'OCRTX']].mean(axis=1)\n",
    "df['LL'] = df[[\"LL_[p]\",'WL.1']].mean(axis=1)\n",
    "df['IP'] = df[[\"PI_[p]\",'PI.1']].mean(axis=1)\n",
    "df=df.drop(columns=[\"PI_[p]\",'PI.1',\"LL_[p]\",'WL.1'])\n",
    "df=df.drop(columns=[\"OCROED\",'OCRTX'])"
   ]
  },
  {
   "cell_type": "code",
   "execution_count": 15,
   "metadata": {},
   "outputs": [],
   "source": [
    "df2=df[df.describe().columns.tolist()]"
   ]
  },
  {
   "cell_type": "code",
   "execution_count": 16,
   "metadata": {},
   "outputs": [
    {
     "data": {
      "text/plain": [
       "Index(['Zarr0,25_m', 'σ^v_[kPa]', 'gwet', 'wn', 'wopt', 'CaCo3', 'Sr_[p]', 'Ic', 'e0', 'Cc', 'Ce', '(N1)60', 'cTX', 'ϕTX', 'c^TX', 'ϕ^TX', 'Cu', 'OCR', 'cDSS', 'ϕDSS', 'CU,VANE', 'Ep1_Mpa', 'Pl_Mpa', 'Em/Pl', 'Cu,Ucs', 'LL', 'IP'], dtype='object')"
      ]
     },
     "execution_count": 16,
     "metadata": {},
     "output_type": "execute_result"
    }
   ],
   "source": [
    "df2.columns"
   ]
  },
  {
   "cell_type": "markdown",
   "metadata": {},
   "source": [
    "- Rename the columns with suitable names\n",
    "- Drop columns that are not relevant and drop row that have less than 3 values"
   ]
  },
  {
   "cell_type": "code",
   "execution_count": 17,
   "metadata": {},
   "outputs": [],
   "source": [
    "df2.columns=['Zarr0,25_m', 'σ^v_[kPa]', 'gwet', 'wn', 'wopt', 'CaCo3', 'Sr', 'Ic', 'e0', 'Cc', 'Ce', '(N1)60', 'c-TX', 'ϕ-Tx', 'c^Tx', 'ϕ^Tx', 'Cu-Tx', 'OCR', 'c-Dss', 'ϕ-Dss', 'CU-Vane', 'Ep1_[Mpa]', 'Pl_[Mpa]', 'Em/Pl', 'Cu-Ucs', 'LL', 'PI']\n",
    "df2.dropna(axis='rows', thresh=3, inplace=True)"
   ]
  },
  {
   "cell_type": "code",
   "execution_count": 18,
   "metadata": {},
   "outputs": [
    {
     "data": {
      "text/html": [
       "<div>\n",
       "<style scoped>\n",
       "    .dataframe tbody tr th:only-of-type {\n",
       "        vertical-align: middle;\n",
       "    }\n",
       "\n",
       "    .dataframe tbody tr th {\n",
       "        vertical-align: top;\n",
       "    }\n",
       "\n",
       "    .dataframe thead th {\n",
       "        text-align: right;\n",
       "    }\n",
       "</style>\n",
       "<table border=\"1\" class=\"dataframe\">\n",
       "  <thead>\n",
       "    <tr style=\"text-align: right;\">\n",
       "      <th></th>\n",
       "      <th>Zarr0,25_m</th>\n",
       "      <th>σ^v_[kPa]</th>\n",
       "      <th>gwet</th>\n",
       "      <th>wn</th>\n",
       "      <th>wopt</th>\n",
       "      <th>CaCo3</th>\n",
       "      <th>Sr</th>\n",
       "      <th>Ic</th>\n",
       "      <th>e0</th>\n",
       "      <th>Cc</th>\n",
       "      <th>Ce</th>\n",
       "      <th>(N1)60</th>\n",
       "      <th>c-TX</th>\n",
       "      <th>ϕ-Tx</th>\n",
       "      <th>c^Tx</th>\n",
       "      <th>ϕ^Tx</th>\n",
       "      <th>Cu-Tx</th>\n",
       "      <th>OCR</th>\n",
       "      <th>c-Dss</th>\n",
       "      <th>ϕ-Dss</th>\n",
       "      <th>CU-Vane</th>\n",
       "      <th>Ep1_[Mpa]</th>\n",
       "      <th>Pl_[Mpa]</th>\n",
       "      <th>Em/Pl</th>\n",
       "      <th>Cu-Ucs</th>\n",
       "      <th>LL</th>\n",
       "      <th>PI</th>\n",
       "      <th>count</th>\n",
       "    </tr>\n",
       "  </thead>\n",
       "  <tbody>\n",
       "    <tr>\n",
       "      <td>62</td>\n",
       "      <td>4.75</td>\n",
       "      <td>82.3500</td>\n",
       "      <td>17.50</td>\n",
       "      <td>32.6</td>\n",
       "      <td>NaN</td>\n",
       "      <td>NaN</td>\n",
       "      <td>NaN</td>\n",
       "      <td>1.058621</td>\n",
       "      <td>1.084</td>\n",
       "      <td>0.425</td>\n",
       "      <td>0.101</td>\n",
       "      <td>NaN</td>\n",
       "      <td>NaN</td>\n",
       "      <td>NaN</td>\n",
       "      <td>NaN</td>\n",
       "      <td>NaN</td>\n",
       "      <td>NaN</td>\n",
       "      <td>6.200000</td>\n",
       "      <td>NaN</td>\n",
       "      <td>NaN</td>\n",
       "      <td>NaN</td>\n",
       "      <td>NaN</td>\n",
       "      <td>NaN</td>\n",
       "      <td>NaN</td>\n",
       "      <td>NaN</td>\n",
       "      <td>94.0</td>\n",
       "      <td>58.0</td>\n",
       "      <td>11</td>\n",
       "    </tr>\n",
       "    <tr>\n",
       "      <td>632</td>\n",
       "      <td>16.75</td>\n",
       "      <td>223.2500</td>\n",
       "      <td>17.11</td>\n",
       "      <td>56.3</td>\n",
       "      <td>NaN</td>\n",
       "      <td>NaN</td>\n",
       "      <td>1.0</td>\n",
       "      <td>NaN</td>\n",
       "      <td>NaN</td>\n",
       "      <td>NaN</td>\n",
       "      <td>NaN</td>\n",
       "      <td>NaN</td>\n",
       "      <td>110.0</td>\n",
       "      <td>14.0</td>\n",
       "      <td>80.0</td>\n",
       "      <td>28.0</td>\n",
       "      <td>156.454585</td>\n",
       "      <td>2.015677</td>\n",
       "      <td>NaN</td>\n",
       "      <td>NaN</td>\n",
       "      <td>NaN</td>\n",
       "      <td>NaN</td>\n",
       "      <td>NaN</td>\n",
       "      <td>NaN</td>\n",
       "      <td>NaN</td>\n",
       "      <td>NaN</td>\n",
       "      <td>NaN</td>\n",
       "      <td>11</td>\n",
       "    </tr>\n",
       "    <tr>\n",
       "      <td>630</td>\n",
       "      <td>10.75</td>\n",
       "      <td>178.6250</td>\n",
       "      <td>18.38</td>\n",
       "      <td>39.4</td>\n",
       "      <td>NaN</td>\n",
       "      <td>NaN</td>\n",
       "      <td>1.0</td>\n",
       "      <td>NaN</td>\n",
       "      <td>NaN</td>\n",
       "      <td>NaN</td>\n",
       "      <td>NaN</td>\n",
       "      <td>NaN</td>\n",
       "      <td>40.0</td>\n",
       "      <td>22.0</td>\n",
       "      <td>30.0</td>\n",
       "      <td>30.0</td>\n",
       "      <td>157.558352</td>\n",
       "      <td>2.687194</td>\n",
       "      <td>NaN</td>\n",
       "      <td>NaN</td>\n",
       "      <td>NaN</td>\n",
       "      <td>NaN</td>\n",
       "      <td>NaN</td>\n",
       "      <td>NaN</td>\n",
       "      <td>NaN</td>\n",
       "      <td>NaN</td>\n",
       "      <td>NaN</td>\n",
       "      <td>11</td>\n",
       "    </tr>\n",
       "    <tr>\n",
       "      <td>532</td>\n",
       "      <td>46.75</td>\n",
       "      <td>447.6875</td>\n",
       "      <td>18.20</td>\n",
       "      <td>32.9</td>\n",
       "      <td>NaN</td>\n",
       "      <td>NaN</td>\n",
       "      <td>NaN</td>\n",
       "      <td>0.281818</td>\n",
       "      <td>1.008</td>\n",
       "      <td>0.321</td>\n",
       "      <td>0.013</td>\n",
       "      <td>NaN</td>\n",
       "      <td>NaN</td>\n",
       "      <td>NaN</td>\n",
       "      <td>NaN</td>\n",
       "      <td>NaN</td>\n",
       "      <td>NaN</td>\n",
       "      <td>1.300000</td>\n",
       "      <td>NaN</td>\n",
       "      <td>NaN</td>\n",
       "      <td>NaN</td>\n",
       "      <td>NaN</td>\n",
       "      <td>NaN</td>\n",
       "      <td>NaN</td>\n",
       "      <td>NaN</td>\n",
       "      <td>36.0</td>\n",
       "      <td>11.0</td>\n",
       "      <td>11</td>\n",
       "    </tr>\n",
       "    <tr>\n",
       "      <td>531</td>\n",
       "      <td>41.00</td>\n",
       "      <td>403.8125</td>\n",
       "      <td>16.82</td>\n",
       "      <td>55.1</td>\n",
       "      <td>NaN</td>\n",
       "      <td>NaN</td>\n",
       "      <td>NaN</td>\n",
       "      <td>0.678723</td>\n",
       "      <td>1.536</td>\n",
       "      <td>0.627</td>\n",
       "      <td>0.140</td>\n",
       "      <td>NaN</td>\n",
       "      <td>NaN</td>\n",
       "      <td>NaN</td>\n",
       "      <td>NaN</td>\n",
       "      <td>NaN</td>\n",
       "      <td>NaN</td>\n",
       "      <td>1.600000</td>\n",
       "      <td>NaN</td>\n",
       "      <td>NaN</td>\n",
       "      <td>NaN</td>\n",
       "      <td>NaN</td>\n",
       "      <td>NaN</td>\n",
       "      <td>NaN</td>\n",
       "      <td>NaN</td>\n",
       "      <td>87.0</td>\n",
       "      <td>47.0</td>\n",
       "      <td>11</td>\n",
       "    </tr>\n",
       "    <tr>\n",
       "      <td>...</td>\n",
       "      <td>...</td>\n",
       "      <td>...</td>\n",
       "      <td>...</td>\n",
       "      <td>...</td>\n",
       "      <td>...</td>\n",
       "      <td>...</td>\n",
       "      <td>...</td>\n",
       "      <td>...</td>\n",
       "      <td>...</td>\n",
       "      <td>...</td>\n",
       "      <td>...</td>\n",
       "      <td>...</td>\n",
       "      <td>...</td>\n",
       "      <td>...</td>\n",
       "      <td>...</td>\n",
       "      <td>...</td>\n",
       "      <td>...</td>\n",
       "      <td>...</td>\n",
       "      <td>...</td>\n",
       "      <td>...</td>\n",
       "      <td>...</td>\n",
       "      <td>...</td>\n",
       "      <td>...</td>\n",
       "      <td>...</td>\n",
       "      <td>...</td>\n",
       "      <td>...</td>\n",
       "      <td>...</td>\n",
       "      <td>...</td>\n",
       "    </tr>\n",
       "    <tr>\n",
       "      <td>295</td>\n",
       "      <td>32.00</td>\n",
       "      <td>300.0000</td>\n",
       "      <td>NaN</td>\n",
       "      <td>NaN</td>\n",
       "      <td>NaN</td>\n",
       "      <td>NaN</td>\n",
       "      <td>NaN</td>\n",
       "      <td>NaN</td>\n",
       "      <td>NaN</td>\n",
       "      <td>NaN</td>\n",
       "      <td>NaN</td>\n",
       "      <td>12.008622</td>\n",
       "      <td>NaN</td>\n",
       "      <td>NaN</td>\n",
       "      <td>NaN</td>\n",
       "      <td>NaN</td>\n",
       "      <td>NaN</td>\n",
       "      <td>NaN</td>\n",
       "      <td>NaN</td>\n",
       "      <td>NaN</td>\n",
       "      <td>NaN</td>\n",
       "      <td>NaN</td>\n",
       "      <td>NaN</td>\n",
       "      <td>NaN</td>\n",
       "      <td>NaN</td>\n",
       "      <td>NaN</td>\n",
       "      <td>NaN</td>\n",
       "      <td>3</td>\n",
       "    </tr>\n",
       "    <tr>\n",
       "      <td>294</td>\n",
       "      <td>29.00</td>\n",
       "      <td>277.5000</td>\n",
       "      <td>NaN</td>\n",
       "      <td>NaN</td>\n",
       "      <td>NaN</td>\n",
       "      <td>NaN</td>\n",
       "      <td>NaN</td>\n",
       "      <td>NaN</td>\n",
       "      <td>NaN</td>\n",
       "      <td>NaN</td>\n",
       "      <td>NaN</td>\n",
       "      <td>12.485971</td>\n",
       "      <td>NaN</td>\n",
       "      <td>NaN</td>\n",
       "      <td>NaN</td>\n",
       "      <td>NaN</td>\n",
       "      <td>NaN</td>\n",
       "      <td>NaN</td>\n",
       "      <td>NaN</td>\n",
       "      <td>NaN</td>\n",
       "      <td>NaN</td>\n",
       "      <td>NaN</td>\n",
       "      <td>NaN</td>\n",
       "      <td>NaN</td>\n",
       "      <td>NaN</td>\n",
       "      <td>NaN</td>\n",
       "      <td>NaN</td>\n",
       "      <td>3</td>\n",
       "    </tr>\n",
       "    <tr>\n",
       "      <td>293</td>\n",
       "      <td>27.00</td>\n",
       "      <td>262.5000</td>\n",
       "      <td>NaN</td>\n",
       "      <td>NaN</td>\n",
       "      <td>NaN</td>\n",
       "      <td>NaN</td>\n",
       "      <td>NaN</td>\n",
       "      <td>NaN</td>\n",
       "      <td>NaN</td>\n",
       "      <td>NaN</td>\n",
       "      <td>NaN</td>\n",
       "      <td>15.894366</td>\n",
       "      <td>NaN</td>\n",
       "      <td>NaN</td>\n",
       "      <td>NaN</td>\n",
       "      <td>NaN</td>\n",
       "      <td>NaN</td>\n",
       "      <td>NaN</td>\n",
       "      <td>NaN</td>\n",
       "      <td>NaN</td>\n",
       "      <td>NaN</td>\n",
       "      <td>NaN</td>\n",
       "      <td>NaN</td>\n",
       "      <td>NaN</td>\n",
       "      <td>NaN</td>\n",
       "      <td>NaN</td>\n",
       "      <td>NaN</td>\n",
       "      <td>3</td>\n",
       "    </tr>\n",
       "    <tr>\n",
       "      <td>292</td>\n",
       "      <td>25.00</td>\n",
       "      <td>247.5000</td>\n",
       "      <td>NaN</td>\n",
       "      <td>NaN</td>\n",
       "      <td>NaN</td>\n",
       "      <td>NaN</td>\n",
       "      <td>NaN</td>\n",
       "      <td>NaN</td>\n",
       "      <td>NaN</td>\n",
       "      <td>NaN</td>\n",
       "      <td>NaN</td>\n",
       "      <td>12.591483</td>\n",
       "      <td>NaN</td>\n",
       "      <td>NaN</td>\n",
       "      <td>NaN</td>\n",
       "      <td>NaN</td>\n",
       "      <td>NaN</td>\n",
       "      <td>NaN</td>\n",
       "      <td>NaN</td>\n",
       "      <td>NaN</td>\n",
       "      <td>NaN</td>\n",
       "      <td>NaN</td>\n",
       "      <td>NaN</td>\n",
       "      <td>NaN</td>\n",
       "      <td>NaN</td>\n",
       "      <td>NaN</td>\n",
       "      <td>NaN</td>\n",
       "      <td>3</td>\n",
       "    </tr>\n",
       "    <tr>\n",
       "      <td>652</td>\n",
       "      <td>44.25</td>\n",
       "      <td>436.8750</td>\n",
       "      <td>NaN</td>\n",
       "      <td>NaN</td>\n",
       "      <td>NaN</td>\n",
       "      <td>NaN</td>\n",
       "      <td>NaN</td>\n",
       "      <td>NaN</td>\n",
       "      <td>NaN</td>\n",
       "      <td>NaN</td>\n",
       "      <td>NaN</td>\n",
       "      <td>NaN</td>\n",
       "      <td>NaN</td>\n",
       "      <td>NaN</td>\n",
       "      <td>NaN</td>\n",
       "      <td>NaN</td>\n",
       "      <td>NaN</td>\n",
       "      <td>NaN</td>\n",
       "      <td>NaN</td>\n",
       "      <td>NaN</td>\n",
       "      <td>NaN</td>\n",
       "      <td>NaN</td>\n",
       "      <td>NaN</td>\n",
       "      <td>NaN</td>\n",
       "      <td>211.9</td>\n",
       "      <td>NaN</td>\n",
       "      <td>NaN</td>\n",
       "      <td>3</td>\n",
       "    </tr>\n",
       "  </tbody>\n",
       "</table>\n",
       "<p>588 rows × 28 columns</p>\n",
       "</div>"
      ],
      "text/plain": [
       "     Zarr0,25_m  σ^v_[kPa]   gwet    wn  wopt  CaCo3   Sr        Ic     e0     Cc     Ce     (N1)60   c-TX  ϕ-Tx  c^Tx  ϕ^Tx       Cu-Tx       OCR  c-Dss  ϕ-Dss  CU-Vane  Ep1_[Mpa]  Pl_[Mpa]  Em/Pl  Cu-Ucs    LL    PI  count\n",
       "62         4.75    82.3500  17.50  32.6   NaN    NaN  NaN  1.058621  1.084  0.425  0.101        NaN    NaN   NaN   NaN   NaN         NaN  6.200000    NaN    NaN      NaN        NaN       NaN    NaN     NaN  94.0  58.0     11\n",
       "632       16.75   223.2500  17.11  56.3   NaN    NaN  1.0       NaN    NaN    NaN    NaN        NaN  110.0  14.0  80.0  28.0  156.454585  2.015677    NaN    NaN      NaN        NaN       NaN    NaN     NaN   NaN   NaN     11\n",
       "630       10.75   178.6250  18.38  39.4   NaN    NaN  1.0       NaN    NaN    NaN    NaN        NaN   40.0  22.0  30.0  30.0  157.558352  2.687194    NaN    NaN      NaN        NaN       NaN    NaN     NaN   NaN   NaN     11\n",
       "532       46.75   447.6875  18.20  32.9   NaN    NaN  NaN  0.281818  1.008  0.321  0.013        NaN    NaN   NaN   NaN   NaN         NaN  1.300000    NaN    NaN      NaN        NaN       NaN    NaN     NaN  36.0  11.0     11\n",
       "531       41.00   403.8125  16.82  55.1   NaN    NaN  NaN  0.678723  1.536  0.627  0.140        NaN    NaN   NaN   NaN   NaN         NaN  1.600000    NaN    NaN      NaN        NaN       NaN    NaN     NaN  87.0  47.0     11\n",
       "..          ...        ...    ...   ...   ...    ...  ...       ...    ...    ...    ...        ...    ...   ...   ...   ...         ...       ...    ...    ...      ...        ...       ...    ...     ...   ...   ...    ...\n",
       "295       32.00   300.0000    NaN   NaN   NaN    NaN  NaN       NaN    NaN    NaN    NaN  12.008622    NaN   NaN   NaN   NaN         NaN       NaN    NaN    NaN      NaN        NaN       NaN    NaN     NaN   NaN   NaN      3\n",
       "294       29.00   277.5000    NaN   NaN   NaN    NaN  NaN       NaN    NaN    NaN    NaN  12.485971    NaN   NaN   NaN   NaN         NaN       NaN    NaN    NaN      NaN        NaN       NaN    NaN     NaN   NaN   NaN      3\n",
       "293       27.00   262.5000    NaN   NaN   NaN    NaN  NaN       NaN    NaN    NaN    NaN  15.894366    NaN   NaN   NaN   NaN         NaN       NaN    NaN    NaN      NaN        NaN       NaN    NaN     NaN   NaN   NaN      3\n",
       "292       25.00   247.5000    NaN   NaN   NaN    NaN  NaN       NaN    NaN    NaN    NaN  12.591483    NaN   NaN   NaN   NaN         NaN       NaN    NaN    NaN      NaN        NaN       NaN    NaN     NaN   NaN   NaN      3\n",
       "652       44.25   436.8750    NaN   NaN   NaN    NaN  NaN       NaN    NaN    NaN    NaN        NaN    NaN   NaN   NaN   NaN         NaN       NaN    NaN    NaN      NaN        NaN       NaN    NaN   211.9   NaN   NaN      3\n",
       "\n",
       "[588 rows x 28 columns]"
      ]
     },
     "execution_count": 18,
     "metadata": {},
     "output_type": "execute_result"
    }
   ],
   "source": [
    "df2['count']=df.count(axis=1)\n",
    "df2.sort_values('count', ascending=False)"
   ]
  },
  {
   "cell_type": "markdown",
   "metadata": {},
   "source": [
    "The dataframe is now ordered. The next step is a population routine that will replace all NaN values by regressed values.\n",
    "Let's order the parameters by count. This will allow us to decide which parameters are going to lead the populate routine."
   ]
  },
  {
   "cell_type": "code",
   "execution_count": 19,
   "metadata": {},
   "outputs": [
    {
     "data": {
      "text/html": [
       "<div>\n",
       "<style scoped>\n",
       "    .dataframe tbody tr th:only-of-type {\n",
       "        vertical-align: middle;\n",
       "    }\n",
       "\n",
       "    .dataframe tbody tr th {\n",
       "        vertical-align: top;\n",
       "    }\n",
       "\n",
       "    .dataframe thead th {\n",
       "        text-align: right;\n",
       "    }\n",
       "</style>\n",
       "<table border=\"1\" class=\"dataframe\">\n",
       "  <thead>\n",
       "    <tr style=\"text-align: right;\">\n",
       "      <th></th>\n",
       "      <th>count</th>\n",
       "      <th>mean</th>\n",
       "      <th>std</th>\n",
       "      <th>min</th>\n",
       "      <th>25%</th>\n",
       "      <th>50%</th>\n",
       "      <th>75%</th>\n",
       "      <th>max</th>\n",
       "    </tr>\n",
       "  </thead>\n",
       "  <tbody>\n",
       "    <tr>\n",
       "      <td>Zarr0,25_m</td>\n",
       "      <td>588.0</td>\n",
       "      <td>20.176871</td>\n",
       "      <td>13.829423</td>\n",
       "      <td>0.750000</td>\n",
       "      <td>8.500000</td>\n",
       "      <td>18.000000</td>\n",
       "      <td>29.000000</td>\n",
       "      <td>66.500000</td>\n",
       "    </tr>\n",
       "    <tr>\n",
       "      <td>σ^v_[kPa]</td>\n",
       "      <td>588.0</td>\n",
       "      <td>229.408291</td>\n",
       "      <td>127.134431</td>\n",
       "      <td>13.500000</td>\n",
       "      <td>125.750000</td>\n",
       "      <td>219.000000</td>\n",
       "      <td>310.000000</td>\n",
       "      <td>609.750000</td>\n",
       "    </tr>\n",
       "    <tr>\n",
       "      <td>count</td>\n",
       "      <td>588.0</td>\n",
       "      <td>4.448980</td>\n",
       "      <td>2.426946</td>\n",
       "      <td>3.000000</td>\n",
       "      <td>3.000000</td>\n",
       "      <td>3.000000</td>\n",
       "      <td>5.000000</td>\n",
       "      <td>11.000000</td>\n",
       "    </tr>\n",
       "    <tr>\n",
       "      <td>(N1)60</td>\n",
       "      <td>268.0</td>\n",
       "      <td>15.062256</td>\n",
       "      <td>9.284723</td>\n",
       "      <td>5.081337</td>\n",
       "      <td>9.519735</td>\n",
       "      <td>12.432293</td>\n",
       "      <td>17.241599</td>\n",
       "      <td>67.681053</td>\n",
       "    </tr>\n",
       "    <tr>\n",
       "      <td>PI</td>\n",
       "      <td>167.0</td>\n",
       "      <td>44.017964</td>\n",
       "      <td>12.795647</td>\n",
       "      <td>11.000000</td>\n",
       "      <td>35.000000</td>\n",
       "      <td>44.000000</td>\n",
       "      <td>51.000000</td>\n",
       "      <td>79.000000</td>\n",
       "    </tr>\n",
       "    <tr>\n",
       "      <td>...</td>\n",
       "      <td>...</td>\n",
       "      <td>...</td>\n",
       "      <td>...</td>\n",
       "      <td>...</td>\n",
       "      <td>...</td>\n",
       "      <td>...</td>\n",
       "      <td>...</td>\n",
       "      <td>...</td>\n",
       "    </tr>\n",
       "    <tr>\n",
       "      <td>CaCo3</td>\n",
       "      <td>10.0</td>\n",
       "      <td>30.817000</td>\n",
       "      <td>7.983576</td>\n",
       "      <td>20.000000</td>\n",
       "      <td>25.647500</td>\n",
       "      <td>29.500000</td>\n",
       "      <td>36.092500</td>\n",
       "      <td>42.000000</td>\n",
       "    </tr>\n",
       "    <tr>\n",
       "      <td>Cu-Ucs</td>\n",
       "      <td>8.0</td>\n",
       "      <td>163.668750</td>\n",
       "      <td>68.002825</td>\n",
       "      <td>38.950000</td>\n",
       "      <td>133.225000</td>\n",
       "      <td>160.050000</td>\n",
       "      <td>216.887500</td>\n",
       "      <td>245.750000</td>\n",
       "    </tr>\n",
       "    <tr>\n",
       "      <td>wopt</td>\n",
       "      <td>6.0</td>\n",
       "      <td>19.583333</td>\n",
       "      <td>1.734839</td>\n",
       "      <td>16.700000</td>\n",
       "      <td>18.775000</td>\n",
       "      <td>20.500000</td>\n",
       "      <td>20.500000</td>\n",
       "      <td>21.100000</td>\n",
       "    </tr>\n",
       "    <tr>\n",
       "      <td>c-Dss</td>\n",
       "      <td>5.0</td>\n",
       "      <td>22.600000</td>\n",
       "      <td>16.682326</td>\n",
       "      <td>5.000000</td>\n",
       "      <td>17.000000</td>\n",
       "      <td>18.000000</td>\n",
       "      <td>23.000000</td>\n",
       "      <td>50.000000</td>\n",
       "    </tr>\n",
       "    <tr>\n",
       "      <td>ϕ-Dss</td>\n",
       "      <td>5.0</td>\n",
       "      <td>13.600000</td>\n",
       "      <td>2.701851</td>\n",
       "      <td>9.000000</td>\n",
       "      <td>14.000000</td>\n",
       "      <td>14.000000</td>\n",
       "      <td>15.000000</td>\n",
       "      <td>16.000000</td>\n",
       "    </tr>\n",
       "  </tbody>\n",
       "</table>\n",
       "<p>28 rows × 8 columns</p>\n",
       "</div>"
      ],
      "text/plain": [
       "            count        mean         std        min         25%         50%         75%         max\n",
       "Zarr0,25_m  588.0   20.176871   13.829423   0.750000    8.500000   18.000000   29.000000   66.500000\n",
       "σ^v_[kPa]   588.0  229.408291  127.134431  13.500000  125.750000  219.000000  310.000000  609.750000\n",
       "count       588.0    4.448980    2.426946   3.000000    3.000000    3.000000    5.000000   11.000000\n",
       "(N1)60      268.0   15.062256    9.284723   5.081337    9.519735   12.432293   17.241599   67.681053\n",
       "PI          167.0   44.017964   12.795647  11.000000   35.000000   44.000000   51.000000   79.000000\n",
       "...           ...         ...         ...        ...         ...         ...         ...         ...\n",
       "CaCo3        10.0   30.817000    7.983576  20.000000   25.647500   29.500000   36.092500   42.000000\n",
       "Cu-Ucs        8.0  163.668750   68.002825  38.950000  133.225000  160.050000  216.887500  245.750000\n",
       "wopt          6.0   19.583333    1.734839  16.700000   18.775000   20.500000   20.500000   21.100000\n",
       "c-Dss         5.0   22.600000   16.682326   5.000000   17.000000   18.000000   23.000000   50.000000\n",
       "ϕ-Dss         5.0   13.600000    2.701851   9.000000   14.000000   14.000000   15.000000   16.000000\n",
       "\n",
       "[28 rows x 8 columns]"
      ]
     },
     "execution_count": 19,
     "metadata": {},
     "output_type": "execute_result"
    }
   ],
   "source": [
    "dfd=df2.describe()\n",
    "dfdt = dfd.transpose()\n",
    "dfdt.sort_values('count', ascending=False)"
   ]
  },
  {
   "cell_type": "markdown",
   "metadata": {},
   "source": [
    "Create a dataframe 'dfo' that is ordered according to the most relevant parameters"
   ]
  },
  {
   "cell_type": "code",
   "execution_count": null,
   "metadata": {},
   "outputs": [],
   "source": []
  },
  {
   "cell_type": "code",
   "execution_count": 20,
   "metadata": {},
   "outputs": [
    {
     "data": {
      "text/html": [
       "<div>\n",
       "<style scoped>\n",
       "    .dataframe tbody tr th:only-of-type {\n",
       "        vertical-align: middle;\n",
       "    }\n",
       "\n",
       "    .dataframe tbody tr th {\n",
       "        vertical-align: top;\n",
       "    }\n",
       "\n",
       "    .dataframe thead th {\n",
       "        text-align: right;\n",
       "    }\n",
       "</style>\n",
       "<table border=\"1\" class=\"dataframe\">\n",
       "  <thead>\n",
       "    <tr style=\"text-align: right;\">\n",
       "      <th></th>\n",
       "      <th>Zarr0,25_m</th>\n",
       "      <th>σ^v_[kPa]</th>\n",
       "      <th>count</th>\n",
       "      <th>(N1)60</th>\n",
       "      <th>PI</th>\n",
       "      <th>LL</th>\n",
       "      <th>wn</th>\n",
       "      <th>Ic</th>\n",
       "      <th>gwet</th>\n",
       "      <th>CU-Vane</th>\n",
       "      <th>OCR</th>\n",
       "      <th>Em/Pl</th>\n",
       "      <th>Pl_[Mpa]</th>\n",
       "      <th>Ep1_[Mpa]</th>\n",
       "      <th>e0</th>\n",
       "      <th>ϕ^Tx</th>\n",
       "      <th>c^Tx</th>\n",
       "      <th>Ce</th>\n",
       "      <th>Cc</th>\n",
       "      <th>ϕ-Tx</th>\n",
       "      <th>c-TX</th>\n",
       "      <th>Sr</th>\n",
       "      <th>Cu-Tx</th>\n",
       "      <th>CaCo3</th>\n",
       "      <th>Cu-Ucs</th>\n",
       "      <th>wopt</th>\n",
       "      <th>c-Dss</th>\n",
       "      <th>ϕ-Dss</th>\n",
       "    </tr>\n",
       "  </thead>\n",
       "  <tbody>\n",
       "    <tr>\n",
       "      <td>62</td>\n",
       "      <td>4.75</td>\n",
       "      <td>82.3500</td>\n",
       "      <td>11</td>\n",
       "      <td>NaN</td>\n",
       "      <td>58.0</td>\n",
       "      <td>94.0</td>\n",
       "      <td>32.6</td>\n",
       "      <td>1.058621</td>\n",
       "      <td>17.50</td>\n",
       "      <td>NaN</td>\n",
       "      <td>6.200000</td>\n",
       "      <td>NaN</td>\n",
       "      <td>NaN</td>\n",
       "      <td>NaN</td>\n",
       "      <td>1.084</td>\n",
       "      <td>NaN</td>\n",
       "      <td>NaN</td>\n",
       "      <td>0.101</td>\n",
       "      <td>0.425</td>\n",
       "      <td>NaN</td>\n",
       "      <td>NaN</td>\n",
       "      <td>NaN</td>\n",
       "      <td>NaN</td>\n",
       "      <td>NaN</td>\n",
       "      <td>NaN</td>\n",
       "      <td>NaN</td>\n",
       "      <td>NaN</td>\n",
       "      <td>NaN</td>\n",
       "    </tr>\n",
       "    <tr>\n",
       "      <td>632</td>\n",
       "      <td>16.75</td>\n",
       "      <td>223.2500</td>\n",
       "      <td>11</td>\n",
       "      <td>NaN</td>\n",
       "      <td>NaN</td>\n",
       "      <td>NaN</td>\n",
       "      <td>56.3</td>\n",
       "      <td>NaN</td>\n",
       "      <td>17.11</td>\n",
       "      <td>NaN</td>\n",
       "      <td>2.015677</td>\n",
       "      <td>NaN</td>\n",
       "      <td>NaN</td>\n",
       "      <td>NaN</td>\n",
       "      <td>NaN</td>\n",
       "      <td>28.0</td>\n",
       "      <td>80.0</td>\n",
       "      <td>NaN</td>\n",
       "      <td>NaN</td>\n",
       "      <td>14.0</td>\n",
       "      <td>110.0</td>\n",
       "      <td>1.0</td>\n",
       "      <td>156.454585</td>\n",
       "      <td>NaN</td>\n",
       "      <td>NaN</td>\n",
       "      <td>NaN</td>\n",
       "      <td>NaN</td>\n",
       "      <td>NaN</td>\n",
       "    </tr>\n",
       "    <tr>\n",
       "      <td>630</td>\n",
       "      <td>10.75</td>\n",
       "      <td>178.6250</td>\n",
       "      <td>11</td>\n",
       "      <td>NaN</td>\n",
       "      <td>NaN</td>\n",
       "      <td>NaN</td>\n",
       "      <td>39.4</td>\n",
       "      <td>NaN</td>\n",
       "      <td>18.38</td>\n",
       "      <td>NaN</td>\n",
       "      <td>2.687194</td>\n",
       "      <td>NaN</td>\n",
       "      <td>NaN</td>\n",
       "      <td>NaN</td>\n",
       "      <td>NaN</td>\n",
       "      <td>30.0</td>\n",
       "      <td>30.0</td>\n",
       "      <td>NaN</td>\n",
       "      <td>NaN</td>\n",
       "      <td>22.0</td>\n",
       "      <td>40.0</td>\n",
       "      <td>1.0</td>\n",
       "      <td>157.558352</td>\n",
       "      <td>NaN</td>\n",
       "      <td>NaN</td>\n",
       "      <td>NaN</td>\n",
       "      <td>NaN</td>\n",
       "      <td>NaN</td>\n",
       "    </tr>\n",
       "    <tr>\n",
       "      <td>532</td>\n",
       "      <td>46.75</td>\n",
       "      <td>447.6875</td>\n",
       "      <td>11</td>\n",
       "      <td>NaN</td>\n",
       "      <td>11.0</td>\n",
       "      <td>36.0</td>\n",
       "      <td>32.9</td>\n",
       "      <td>0.281818</td>\n",
       "      <td>18.20</td>\n",
       "      <td>NaN</td>\n",
       "      <td>1.300000</td>\n",
       "      <td>NaN</td>\n",
       "      <td>NaN</td>\n",
       "      <td>NaN</td>\n",
       "      <td>1.008</td>\n",
       "      <td>NaN</td>\n",
       "      <td>NaN</td>\n",
       "      <td>0.013</td>\n",
       "      <td>0.321</td>\n",
       "      <td>NaN</td>\n",
       "      <td>NaN</td>\n",
       "      <td>NaN</td>\n",
       "      <td>NaN</td>\n",
       "      <td>NaN</td>\n",
       "      <td>NaN</td>\n",
       "      <td>NaN</td>\n",
       "      <td>NaN</td>\n",
       "      <td>NaN</td>\n",
       "    </tr>\n",
       "    <tr>\n",
       "      <td>531</td>\n",
       "      <td>41.00</td>\n",
       "      <td>403.8125</td>\n",
       "      <td>11</td>\n",
       "      <td>NaN</td>\n",
       "      <td>47.0</td>\n",
       "      <td>87.0</td>\n",
       "      <td>55.1</td>\n",
       "      <td>0.678723</td>\n",
       "      <td>16.82</td>\n",
       "      <td>NaN</td>\n",
       "      <td>1.600000</td>\n",
       "      <td>NaN</td>\n",
       "      <td>NaN</td>\n",
       "      <td>NaN</td>\n",
       "      <td>1.536</td>\n",
       "      <td>NaN</td>\n",
       "      <td>NaN</td>\n",
       "      <td>0.140</td>\n",
       "      <td>0.627</td>\n",
       "      <td>NaN</td>\n",
       "      <td>NaN</td>\n",
       "      <td>NaN</td>\n",
       "      <td>NaN</td>\n",
       "      <td>NaN</td>\n",
       "      <td>NaN</td>\n",
       "      <td>NaN</td>\n",
       "      <td>NaN</td>\n",
       "      <td>NaN</td>\n",
       "    </tr>\n",
       "    <tr>\n",
       "      <td>...</td>\n",
       "      <td>...</td>\n",
       "      <td>...</td>\n",
       "      <td>...</td>\n",
       "      <td>...</td>\n",
       "      <td>...</td>\n",
       "      <td>...</td>\n",
       "      <td>...</td>\n",
       "      <td>...</td>\n",
       "      <td>...</td>\n",
       "      <td>...</td>\n",
       "      <td>...</td>\n",
       "      <td>...</td>\n",
       "      <td>...</td>\n",
       "      <td>...</td>\n",
       "      <td>...</td>\n",
       "      <td>...</td>\n",
       "      <td>...</td>\n",
       "      <td>...</td>\n",
       "      <td>...</td>\n",
       "      <td>...</td>\n",
       "      <td>...</td>\n",
       "      <td>...</td>\n",
       "      <td>...</td>\n",
       "      <td>...</td>\n",
       "      <td>...</td>\n",
       "      <td>...</td>\n",
       "      <td>...</td>\n",
       "      <td>...</td>\n",
       "    </tr>\n",
       "    <tr>\n",
       "      <td>295</td>\n",
       "      <td>32.00</td>\n",
       "      <td>300.0000</td>\n",
       "      <td>3</td>\n",
       "      <td>12.008622</td>\n",
       "      <td>NaN</td>\n",
       "      <td>NaN</td>\n",
       "      <td>NaN</td>\n",
       "      <td>NaN</td>\n",
       "      <td>NaN</td>\n",
       "      <td>NaN</td>\n",
       "      <td>NaN</td>\n",
       "      <td>NaN</td>\n",
       "      <td>NaN</td>\n",
       "      <td>NaN</td>\n",
       "      <td>NaN</td>\n",
       "      <td>NaN</td>\n",
       "      <td>NaN</td>\n",
       "      <td>NaN</td>\n",
       "      <td>NaN</td>\n",
       "      <td>NaN</td>\n",
       "      <td>NaN</td>\n",
       "      <td>NaN</td>\n",
       "      <td>NaN</td>\n",
       "      <td>NaN</td>\n",
       "      <td>NaN</td>\n",
       "      <td>NaN</td>\n",
       "      <td>NaN</td>\n",
       "      <td>NaN</td>\n",
       "    </tr>\n",
       "    <tr>\n",
       "      <td>294</td>\n",
       "      <td>29.00</td>\n",
       "      <td>277.5000</td>\n",
       "      <td>3</td>\n",
       "      <td>12.485971</td>\n",
       "      <td>NaN</td>\n",
       "      <td>NaN</td>\n",
       "      <td>NaN</td>\n",
       "      <td>NaN</td>\n",
       "      <td>NaN</td>\n",
       "      <td>NaN</td>\n",
       "      <td>NaN</td>\n",
       "      <td>NaN</td>\n",
       "      <td>NaN</td>\n",
       "      <td>NaN</td>\n",
       "      <td>NaN</td>\n",
       "      <td>NaN</td>\n",
       "      <td>NaN</td>\n",
       "      <td>NaN</td>\n",
       "      <td>NaN</td>\n",
       "      <td>NaN</td>\n",
       "      <td>NaN</td>\n",
       "      <td>NaN</td>\n",
       "      <td>NaN</td>\n",
       "      <td>NaN</td>\n",
       "      <td>NaN</td>\n",
       "      <td>NaN</td>\n",
       "      <td>NaN</td>\n",
       "      <td>NaN</td>\n",
       "    </tr>\n",
       "    <tr>\n",
       "      <td>293</td>\n",
       "      <td>27.00</td>\n",
       "      <td>262.5000</td>\n",
       "      <td>3</td>\n",
       "      <td>15.894366</td>\n",
       "      <td>NaN</td>\n",
       "      <td>NaN</td>\n",
       "      <td>NaN</td>\n",
       "      <td>NaN</td>\n",
       "      <td>NaN</td>\n",
       "      <td>NaN</td>\n",
       "      <td>NaN</td>\n",
       "      <td>NaN</td>\n",
       "      <td>NaN</td>\n",
       "      <td>NaN</td>\n",
       "      <td>NaN</td>\n",
       "      <td>NaN</td>\n",
       "      <td>NaN</td>\n",
       "      <td>NaN</td>\n",
       "      <td>NaN</td>\n",
       "      <td>NaN</td>\n",
       "      <td>NaN</td>\n",
       "      <td>NaN</td>\n",
       "      <td>NaN</td>\n",
       "      <td>NaN</td>\n",
       "      <td>NaN</td>\n",
       "      <td>NaN</td>\n",
       "      <td>NaN</td>\n",
       "      <td>NaN</td>\n",
       "    </tr>\n",
       "    <tr>\n",
       "      <td>292</td>\n",
       "      <td>25.00</td>\n",
       "      <td>247.5000</td>\n",
       "      <td>3</td>\n",
       "      <td>12.591483</td>\n",
       "      <td>NaN</td>\n",
       "      <td>NaN</td>\n",
       "      <td>NaN</td>\n",
       "      <td>NaN</td>\n",
       "      <td>NaN</td>\n",
       "      <td>NaN</td>\n",
       "      <td>NaN</td>\n",
       "      <td>NaN</td>\n",
       "      <td>NaN</td>\n",
       "      <td>NaN</td>\n",
       "      <td>NaN</td>\n",
       "      <td>NaN</td>\n",
       "      <td>NaN</td>\n",
       "      <td>NaN</td>\n",
       "      <td>NaN</td>\n",
       "      <td>NaN</td>\n",
       "      <td>NaN</td>\n",
       "      <td>NaN</td>\n",
       "      <td>NaN</td>\n",
       "      <td>NaN</td>\n",
       "      <td>NaN</td>\n",
       "      <td>NaN</td>\n",
       "      <td>NaN</td>\n",
       "      <td>NaN</td>\n",
       "    </tr>\n",
       "    <tr>\n",
       "      <td>652</td>\n",
       "      <td>44.25</td>\n",
       "      <td>436.8750</td>\n",
       "      <td>3</td>\n",
       "      <td>NaN</td>\n",
       "      <td>NaN</td>\n",
       "      <td>NaN</td>\n",
       "      <td>NaN</td>\n",
       "      <td>NaN</td>\n",
       "      <td>NaN</td>\n",
       "      <td>NaN</td>\n",
       "      <td>NaN</td>\n",
       "      <td>NaN</td>\n",
       "      <td>NaN</td>\n",
       "      <td>NaN</td>\n",
       "      <td>NaN</td>\n",
       "      <td>NaN</td>\n",
       "      <td>NaN</td>\n",
       "      <td>NaN</td>\n",
       "      <td>NaN</td>\n",
       "      <td>NaN</td>\n",
       "      <td>NaN</td>\n",
       "      <td>NaN</td>\n",
       "      <td>NaN</td>\n",
       "      <td>NaN</td>\n",
       "      <td>211.9</td>\n",
       "      <td>NaN</td>\n",
       "      <td>NaN</td>\n",
       "      <td>NaN</td>\n",
       "    </tr>\n",
       "  </tbody>\n",
       "</table>\n",
       "<p>588 rows × 28 columns</p>\n",
       "</div>"
      ],
      "text/plain": [
       "     Zarr0,25_m  σ^v_[kPa]  count     (N1)60    PI    LL    wn        Ic   gwet  CU-Vane       OCR  Em/Pl  Pl_[Mpa]  Ep1_[Mpa]     e0  ϕ^Tx  c^Tx     Ce     Cc  ϕ-Tx   c-TX   Sr       Cu-Tx  CaCo3  Cu-Ucs  wopt  c-Dss  ϕ-Dss\n",
       "62         4.75    82.3500     11        NaN  58.0  94.0  32.6  1.058621  17.50      NaN  6.200000    NaN       NaN        NaN  1.084   NaN   NaN  0.101  0.425   NaN    NaN  NaN         NaN    NaN     NaN   NaN    NaN    NaN\n",
       "632       16.75   223.2500     11        NaN   NaN   NaN  56.3       NaN  17.11      NaN  2.015677    NaN       NaN        NaN    NaN  28.0  80.0    NaN    NaN  14.0  110.0  1.0  156.454585    NaN     NaN   NaN    NaN    NaN\n",
       "630       10.75   178.6250     11        NaN   NaN   NaN  39.4       NaN  18.38      NaN  2.687194    NaN       NaN        NaN    NaN  30.0  30.0    NaN    NaN  22.0   40.0  1.0  157.558352    NaN     NaN   NaN    NaN    NaN\n",
       "532       46.75   447.6875     11        NaN  11.0  36.0  32.9  0.281818  18.20      NaN  1.300000    NaN       NaN        NaN  1.008   NaN   NaN  0.013  0.321   NaN    NaN  NaN         NaN    NaN     NaN   NaN    NaN    NaN\n",
       "531       41.00   403.8125     11        NaN  47.0  87.0  55.1  0.678723  16.82      NaN  1.600000    NaN       NaN        NaN  1.536   NaN   NaN  0.140  0.627   NaN    NaN  NaN         NaN    NaN     NaN   NaN    NaN    NaN\n",
       "..          ...        ...    ...        ...   ...   ...   ...       ...    ...      ...       ...    ...       ...        ...    ...   ...   ...    ...    ...   ...    ...  ...         ...    ...     ...   ...    ...    ...\n",
       "295       32.00   300.0000      3  12.008622   NaN   NaN   NaN       NaN    NaN      NaN       NaN    NaN       NaN        NaN    NaN   NaN   NaN    NaN    NaN   NaN    NaN  NaN         NaN    NaN     NaN   NaN    NaN    NaN\n",
       "294       29.00   277.5000      3  12.485971   NaN   NaN   NaN       NaN    NaN      NaN       NaN    NaN       NaN        NaN    NaN   NaN   NaN    NaN    NaN   NaN    NaN  NaN         NaN    NaN     NaN   NaN    NaN    NaN\n",
       "293       27.00   262.5000      3  15.894366   NaN   NaN   NaN       NaN    NaN      NaN       NaN    NaN       NaN        NaN    NaN   NaN   NaN    NaN    NaN   NaN    NaN  NaN         NaN    NaN     NaN   NaN    NaN    NaN\n",
       "292       25.00   247.5000      3  12.591483   NaN   NaN   NaN       NaN    NaN      NaN       NaN    NaN       NaN        NaN    NaN   NaN   NaN    NaN    NaN   NaN    NaN  NaN         NaN    NaN     NaN   NaN    NaN    NaN\n",
       "652       44.25   436.8750      3        NaN   NaN   NaN   NaN       NaN    NaN      NaN       NaN    NaN       NaN        NaN    NaN   NaN   NaN    NaN    NaN   NaN    NaN  NaN         NaN    NaN   211.9   NaN    NaN    NaN\n",
       "\n",
       "[588 rows x 28 columns]"
      ]
     },
     "execution_count": 20,
     "metadata": {},
     "output_type": "execute_result"
    }
   ],
   "source": [
    "dfo = df2[dfdt.sort_values('count', ascending=False).index.tolist()].sort_values('count',ascending=False).copy()\n",
    "dfo"
   ]
  },
  {
   "cell_type": "code",
   "execution_count": 21,
   "metadata": {},
   "outputs": [
    {
     "name": "stdout",
     "output_type": "stream",
     "text": [
      "The shape of the new dataframe is: (153, 27)\n"
     ]
    },
    {
     "data": {
      "text/html": [
       "<div>\n",
       "<style scoped>\n",
       "    .dataframe tbody tr th:only-of-type {\n",
       "        vertical-align: middle;\n",
       "    }\n",
       "\n",
       "    .dataframe tbody tr th {\n",
       "        vertical-align: top;\n",
       "    }\n",
       "\n",
       "    .dataframe thead th {\n",
       "        text-align: right;\n",
       "    }\n",
       "</style>\n",
       "<table border=\"1\" class=\"dataframe\">\n",
       "  <thead>\n",
       "    <tr style=\"text-align: right;\">\n",
       "      <th></th>\n",
       "      <th>σ^v_[kPa]</th>\n",
       "      <th>count</th>\n",
       "      <th>(N1)60</th>\n",
       "      <th>PI</th>\n",
       "      <th>LL</th>\n",
       "      <th>wn</th>\n",
       "      <th>Ic</th>\n",
       "      <th>gwet</th>\n",
       "      <th>CU-Vane</th>\n",
       "      <th>OCR</th>\n",
       "      <th>Em/Pl</th>\n",
       "      <th>Pl_[Mpa]</th>\n",
       "      <th>Ep1_[Mpa]</th>\n",
       "      <th>e0</th>\n",
       "      <th>ϕ^Tx</th>\n",
       "      <th>c^Tx</th>\n",
       "      <th>Ce</th>\n",
       "      <th>Cc</th>\n",
       "      <th>ϕ-Tx</th>\n",
       "      <th>c-TX</th>\n",
       "      <th>Sr</th>\n",
       "      <th>Cu-Tx</th>\n",
       "      <th>CaCo3</th>\n",
       "      <th>Cu-Ucs</th>\n",
       "      <th>wopt</th>\n",
       "      <th>c-Dss</th>\n",
       "      <th>ϕ-Dss</th>\n",
       "    </tr>\n",
       "    <tr>\n",
       "      <th>Zarr0,25_m</th>\n",
       "      <th></th>\n",
       "      <th></th>\n",
       "      <th></th>\n",
       "      <th></th>\n",
       "      <th></th>\n",
       "      <th></th>\n",
       "      <th></th>\n",
       "      <th></th>\n",
       "      <th></th>\n",
       "      <th></th>\n",
       "      <th></th>\n",
       "      <th></th>\n",
       "      <th></th>\n",
       "      <th></th>\n",
       "      <th></th>\n",
       "      <th></th>\n",
       "      <th></th>\n",
       "      <th></th>\n",
       "      <th></th>\n",
       "      <th></th>\n",
       "      <th></th>\n",
       "      <th></th>\n",
       "      <th></th>\n",
       "      <th></th>\n",
       "      <th></th>\n",
       "      <th></th>\n",
       "      <th></th>\n",
       "    </tr>\n",
       "  </thead>\n",
       "  <tbody>\n",
       "    <tr>\n",
       "      <td>0.75</td>\n",
       "      <td>13.500000</td>\n",
       "      <td>6.000000</td>\n",
       "      <td>NaN</td>\n",
       "      <td>34.0</td>\n",
       "      <td>57.0</td>\n",
       "      <td>28.0</td>\n",
       "      <td>0.852941</td>\n",
       "      <td>NaN</td>\n",
       "      <td>NaN</td>\n",
       "      <td>NaN</td>\n",
       "      <td>NaN</td>\n",
       "      <td>NaN</td>\n",
       "      <td>NaN</td>\n",
       "      <td>NaN</td>\n",
       "      <td>NaN</td>\n",
       "      <td>NaN</td>\n",
       "      <td>NaN</td>\n",
       "      <td>NaN</td>\n",
       "      <td>NaN</td>\n",
       "      <td>NaN</td>\n",
       "      <td>NaN</td>\n",
       "      <td>NaN</td>\n",
       "      <td>NaN</td>\n",
       "      <td>NaN</td>\n",
       "      <td>NaN</td>\n",
       "      <td>NaN</td>\n",
       "      <td>NaN</td>\n",
       "    </tr>\n",
       "    <tr>\n",
       "      <td>1.50</td>\n",
       "      <td>27.000000</td>\n",
       "      <td>3.000000</td>\n",
       "      <td>8.500000</td>\n",
       "      <td>NaN</td>\n",
       "      <td>NaN</td>\n",
       "      <td>30.0</td>\n",
       "      <td>NaN</td>\n",
       "      <td>NaN</td>\n",
       "      <td>NaN</td>\n",
       "      <td>NaN</td>\n",
       "      <td>NaN</td>\n",
       "      <td>NaN</td>\n",
       "      <td>NaN</td>\n",
       "      <td>NaN</td>\n",
       "      <td>NaN</td>\n",
       "      <td>NaN</td>\n",
       "      <td>NaN</td>\n",
       "      <td>NaN</td>\n",
       "      <td>NaN</td>\n",
       "      <td>NaN</td>\n",
       "      <td>NaN</td>\n",
       "      <td>NaN</td>\n",
       "      <td>NaN</td>\n",
       "      <td>NaN</td>\n",
       "      <td>20.5</td>\n",
       "      <td>NaN</td>\n",
       "      <td>NaN</td>\n",
       "    </tr>\n",
       "    <tr>\n",
       "      <td>1.75</td>\n",
       "      <td>31.500000</td>\n",
       "      <td>3.000000</td>\n",
       "      <td>NaN</td>\n",
       "      <td>NaN</td>\n",
       "      <td>NaN</td>\n",
       "      <td>NaN</td>\n",
       "      <td>NaN</td>\n",
       "      <td>NaN</td>\n",
       "      <td>90.0</td>\n",
       "      <td>NaN</td>\n",
       "      <td>NaN</td>\n",
       "      <td>NaN</td>\n",
       "      <td>NaN</td>\n",
       "      <td>NaN</td>\n",
       "      <td>NaN</td>\n",
       "      <td>NaN</td>\n",
       "      <td>NaN</td>\n",
       "      <td>NaN</td>\n",
       "      <td>NaN</td>\n",
       "      <td>NaN</td>\n",
       "      <td>NaN</td>\n",
       "      <td>NaN</td>\n",
       "      <td>NaN</td>\n",
       "      <td>NaN</td>\n",
       "      <td>NaN</td>\n",
       "      <td>NaN</td>\n",
       "      <td>NaN</td>\n",
       "    </tr>\n",
       "    <tr>\n",
       "      <td>2.00</td>\n",
       "      <td>34.333333</td>\n",
       "      <td>3.083333</td>\n",
       "      <td>27.329827</td>\n",
       "      <td>60.0</td>\n",
       "      <td>92.0</td>\n",
       "      <td>30.0</td>\n",
       "      <td>NaN</td>\n",
       "      <td>NaN</td>\n",
       "      <td>241.0</td>\n",
       "      <td>NaN</td>\n",
       "      <td>NaN</td>\n",
       "      <td>NaN</td>\n",
       "      <td>NaN</td>\n",
       "      <td>NaN</td>\n",
       "      <td>NaN</td>\n",
       "      <td>NaN</td>\n",
       "      <td>NaN</td>\n",
       "      <td>NaN</td>\n",
       "      <td>NaN</td>\n",
       "      <td>NaN</td>\n",
       "      <td>NaN</td>\n",
       "      <td>NaN</td>\n",
       "      <td>NaN</td>\n",
       "      <td>NaN</td>\n",
       "      <td>16.7</td>\n",
       "      <td>NaN</td>\n",
       "      <td>NaN</td>\n",
       "    </tr>\n",
       "    <tr>\n",
       "      <td>2.50</td>\n",
       "      <td>44.742857</td>\n",
       "      <td>3.571429</td>\n",
       "      <td>28.791405</td>\n",
       "      <td>46.0</td>\n",
       "      <td>77.0</td>\n",
       "      <td>27.4</td>\n",
       "      <td>NaN</td>\n",
       "      <td>19.06</td>\n",
       "      <td>241.0</td>\n",
       "      <td>NaN</td>\n",
       "      <td>NaN</td>\n",
       "      <td>NaN</td>\n",
       "      <td>NaN</td>\n",
       "      <td>NaN</td>\n",
       "      <td>NaN</td>\n",
       "      <td>NaN</td>\n",
       "      <td>NaN</td>\n",
       "      <td>NaN</td>\n",
       "      <td>NaN</td>\n",
       "      <td>NaN</td>\n",
       "      <td>NaN</td>\n",
       "      <td>NaN</td>\n",
       "      <td>NaN</td>\n",
       "      <td>NaN</td>\n",
       "      <td>NaN</td>\n",
       "      <td>NaN</td>\n",
       "      <td>NaN</td>\n",
       "    </tr>\n",
       "    <tr>\n",
       "      <td>...</td>\n",
       "      <td>...</td>\n",
       "      <td>...</td>\n",
       "      <td>...</td>\n",
       "      <td>...</td>\n",
       "      <td>...</td>\n",
       "      <td>...</td>\n",
       "      <td>...</td>\n",
       "      <td>...</td>\n",
       "      <td>...</td>\n",
       "      <td>...</td>\n",
       "      <td>...</td>\n",
       "      <td>...</td>\n",
       "      <td>...</td>\n",
       "      <td>...</td>\n",
       "      <td>...</td>\n",
       "      <td>...</td>\n",
       "      <td>...</td>\n",
       "      <td>...</td>\n",
       "      <td>...</td>\n",
       "      <td>...</td>\n",
       "      <td>...</td>\n",
       "      <td>...</td>\n",
       "      <td>...</td>\n",
       "      <td>...</td>\n",
       "      <td>...</td>\n",
       "      <td>...</td>\n",
       "      <td>...</td>\n",
       "    </tr>\n",
       "    <tr>\n",
       "      <td>59.50</td>\n",
       "      <td>555.750000</td>\n",
       "      <td>5.000000</td>\n",
       "      <td>NaN</td>\n",
       "      <td>NaN</td>\n",
       "      <td>NaN</td>\n",
       "      <td>NaN</td>\n",
       "      <td>NaN</td>\n",
       "      <td>NaN</td>\n",
       "      <td>NaN</td>\n",
       "      <td>NaN</td>\n",
       "      <td>27.600000</td>\n",
       "      <td>0.25</td>\n",
       "      <td>6.9</td>\n",
       "      <td>NaN</td>\n",
       "      <td>NaN</td>\n",
       "      <td>NaN</td>\n",
       "      <td>NaN</td>\n",
       "      <td>NaN</td>\n",
       "      <td>NaN</td>\n",
       "      <td>NaN</td>\n",
       "      <td>NaN</td>\n",
       "      <td>NaN</td>\n",
       "      <td>NaN</td>\n",
       "      <td>NaN</td>\n",
       "      <td>NaN</td>\n",
       "      <td>NaN</td>\n",
       "      <td>NaN</td>\n",
       "    </tr>\n",
       "    <tr>\n",
       "      <td>60.00</td>\n",
       "      <td>555.000000</td>\n",
       "      <td>5.000000</td>\n",
       "      <td>NaN</td>\n",
       "      <td>NaN</td>\n",
       "      <td>NaN</td>\n",
       "      <td>NaN</td>\n",
       "      <td>NaN</td>\n",
       "      <td>NaN</td>\n",
       "      <td>NaN</td>\n",
       "      <td>NaN</td>\n",
       "      <td>13.478261</td>\n",
       "      <td>0.23</td>\n",
       "      <td>3.1</td>\n",
       "      <td>NaN</td>\n",
       "      <td>NaN</td>\n",
       "      <td>NaN</td>\n",
       "      <td>NaN</td>\n",
       "      <td>NaN</td>\n",
       "      <td>NaN</td>\n",
       "      <td>NaN</td>\n",
       "      <td>NaN</td>\n",
       "      <td>NaN</td>\n",
       "      <td>NaN</td>\n",
       "      <td>NaN</td>\n",
       "      <td>NaN</td>\n",
       "      <td>NaN</td>\n",
       "      <td>NaN</td>\n",
       "    </tr>\n",
       "    <tr>\n",
       "      <td>61.50</td>\n",
       "      <td>572.250000</td>\n",
       "      <td>3.000000</td>\n",
       "      <td>20.701967</td>\n",
       "      <td>NaN</td>\n",
       "      <td>NaN</td>\n",
       "      <td>NaN</td>\n",
       "      <td>NaN</td>\n",
       "      <td>NaN</td>\n",
       "      <td>NaN</td>\n",
       "      <td>NaN</td>\n",
       "      <td>NaN</td>\n",
       "      <td>NaN</td>\n",
       "      <td>NaN</td>\n",
       "      <td>NaN</td>\n",
       "      <td>NaN</td>\n",
       "      <td>NaN</td>\n",
       "      <td>NaN</td>\n",
       "      <td>NaN</td>\n",
       "      <td>NaN</td>\n",
       "      <td>NaN</td>\n",
       "      <td>NaN</td>\n",
       "      <td>NaN</td>\n",
       "      <td>NaN</td>\n",
       "      <td>NaN</td>\n",
       "      <td>NaN</td>\n",
       "      <td>NaN</td>\n",
       "      <td>NaN</td>\n",
       "    </tr>\n",
       "    <tr>\n",
       "      <td>63.00</td>\n",
       "      <td>583.500000</td>\n",
       "      <td>3.000000</td>\n",
       "      <td>26.651854</td>\n",
       "      <td>NaN</td>\n",
       "      <td>NaN</td>\n",
       "      <td>NaN</td>\n",
       "      <td>NaN</td>\n",
       "      <td>NaN</td>\n",
       "      <td>NaN</td>\n",
       "      <td>NaN</td>\n",
       "      <td>NaN</td>\n",
       "      <td>NaN</td>\n",
       "      <td>NaN</td>\n",
       "      <td>NaN</td>\n",
       "      <td>NaN</td>\n",
       "      <td>NaN</td>\n",
       "      <td>NaN</td>\n",
       "      <td>NaN</td>\n",
       "      <td>NaN</td>\n",
       "      <td>NaN</td>\n",
       "      <td>NaN</td>\n",
       "      <td>NaN</td>\n",
       "      <td>NaN</td>\n",
       "      <td>NaN</td>\n",
       "      <td>NaN</td>\n",
       "      <td>NaN</td>\n",
       "      <td>NaN</td>\n",
       "    </tr>\n",
       "    <tr>\n",
       "      <td>66.50</td>\n",
       "      <td>609.750000</td>\n",
       "      <td>3.000000</td>\n",
       "      <td>20.055274</td>\n",
       "      <td>NaN</td>\n",
       "      <td>NaN</td>\n",
       "      <td>NaN</td>\n",
       "      <td>NaN</td>\n",
       "      <td>NaN</td>\n",
       "      <td>NaN</td>\n",
       "      <td>NaN</td>\n",
       "      <td>NaN</td>\n",
       "      <td>NaN</td>\n",
       "      <td>NaN</td>\n",
       "      <td>NaN</td>\n",
       "      <td>NaN</td>\n",
       "      <td>NaN</td>\n",
       "      <td>NaN</td>\n",
       "      <td>NaN</td>\n",
       "      <td>NaN</td>\n",
       "      <td>NaN</td>\n",
       "      <td>NaN</td>\n",
       "      <td>NaN</td>\n",
       "      <td>NaN</td>\n",
       "      <td>NaN</td>\n",
       "      <td>NaN</td>\n",
       "      <td>NaN</td>\n",
       "      <td>NaN</td>\n",
       "    </tr>\n",
       "  </tbody>\n",
       "</table>\n",
       "<p>153 rows × 27 columns</p>\n",
       "</div>"
      ],
      "text/plain": [
       "             σ^v_[kPa]     count     (N1)60    PI    LL    wn        Ic   gwet  CU-Vane  OCR      Em/Pl  Pl_[Mpa]  Ep1_[Mpa]  e0  ϕ^Tx  c^Tx  Ce  Cc  ϕ-Tx  c-TX  Sr  Cu-Tx  CaCo3  Cu-Ucs  wopt  c-Dss  ϕ-Dss\n",
       "Zarr0,25_m                                                                                                                                                                                                    \n",
       "0.75         13.500000  6.000000        NaN  34.0  57.0  28.0  0.852941    NaN      NaN  NaN        NaN       NaN        NaN NaN   NaN   NaN NaN NaN   NaN   NaN NaN    NaN    NaN     NaN   NaN    NaN    NaN\n",
       "1.50         27.000000  3.000000   8.500000   NaN   NaN  30.0       NaN    NaN      NaN  NaN        NaN       NaN        NaN NaN   NaN   NaN NaN NaN   NaN   NaN NaN    NaN    NaN     NaN  20.5    NaN    NaN\n",
       "1.75         31.500000  3.000000        NaN   NaN   NaN   NaN       NaN    NaN     90.0  NaN        NaN       NaN        NaN NaN   NaN   NaN NaN NaN   NaN   NaN NaN    NaN    NaN     NaN   NaN    NaN    NaN\n",
       "2.00         34.333333  3.083333  27.329827  60.0  92.0  30.0       NaN    NaN    241.0  NaN        NaN       NaN        NaN NaN   NaN   NaN NaN NaN   NaN   NaN NaN    NaN    NaN     NaN  16.7    NaN    NaN\n",
       "2.50         44.742857  3.571429  28.791405  46.0  77.0  27.4       NaN  19.06    241.0  NaN        NaN       NaN        NaN NaN   NaN   NaN NaN NaN   NaN   NaN NaN    NaN    NaN     NaN   NaN    NaN    NaN\n",
       "...                ...       ...        ...   ...   ...   ...       ...    ...      ...  ...        ...       ...        ...  ..   ...   ...  ..  ..   ...   ...  ..    ...    ...     ...   ...    ...    ...\n",
       "59.50       555.750000  5.000000        NaN   NaN   NaN   NaN       NaN    NaN      NaN  NaN  27.600000      0.25        6.9 NaN   NaN   NaN NaN NaN   NaN   NaN NaN    NaN    NaN     NaN   NaN    NaN    NaN\n",
       "60.00       555.000000  5.000000        NaN   NaN   NaN   NaN       NaN    NaN      NaN  NaN  13.478261      0.23        3.1 NaN   NaN   NaN NaN NaN   NaN   NaN NaN    NaN    NaN     NaN   NaN    NaN    NaN\n",
       "61.50       572.250000  3.000000  20.701967   NaN   NaN   NaN       NaN    NaN      NaN  NaN        NaN       NaN        NaN NaN   NaN   NaN NaN NaN   NaN   NaN NaN    NaN    NaN     NaN   NaN    NaN    NaN\n",
       "63.00       583.500000  3.000000  26.651854   NaN   NaN   NaN       NaN    NaN      NaN  NaN        NaN       NaN        NaN NaN   NaN   NaN NaN NaN   NaN   NaN NaN    NaN    NaN     NaN   NaN    NaN    NaN\n",
       "66.50       609.750000  3.000000  20.055274   NaN   NaN   NaN       NaN    NaN      NaN  NaN        NaN       NaN        NaN NaN   NaN   NaN NaN NaN   NaN   NaN NaN    NaN    NaN     NaN   NaN    NaN    NaN\n",
       "\n",
       "[153 rows x 27 columns]"
      ]
     },
     "execution_count": 21,
     "metadata": {},
     "output_type": "execute_result"
    }
   ],
   "source": [
    "dfg=dfo.groupby('Zarr0,25_m').mean()\n",
    "print('The shape of the new dataframe is:',dfg.shape)\n",
    "dfg"
   ]
  },
  {
   "cell_type": "code",
   "execution_count": 22,
   "metadata": {},
   "outputs": [],
   "source": [
    "dfg_1 = dfg.copy()"
   ]
  },
  {
   "cell_type": "markdown",
   "metadata": {},
   "source": [
    "## Exploratory data analysis"
   ]
  },
  {
   "cell_type": "markdown",
   "metadata": {},
   "source": [
    "Let's check how the variables are distributed"
   ]
  },
  {
   "cell_type": "code",
   "execution_count": 23,
   "metadata": {},
   "outputs": [
    {
     "data": {
      "text/plain": [
       "<function seaborn.rcmod.set_style(style=None, rc=None)>"
      ]
     },
     "execution_count": 23,
     "metadata": {},
     "output_type": "execute_result"
    }
   ],
   "source": [
    "sns.set_style"
   ]
  },
  {
   "cell_type": "code",
   "execution_count": 24,
   "metadata": {},
   "outputs": [
    {
     "name": "stderr",
     "output_type": "stream",
     "text": [
      "C:\\ProgramData\\Anaconda3_1\\lib\\site-packages\\scipy\\stats\\stats.py:1713: FutureWarning: Using a non-tuple sequence for multidimensional indexing is deprecated; use `arr[tuple(seq)]` instead of `arr[seq]`. In the future this will be interpreted as an array index, `arr[np.array(seq)]`, which will result either in an error or a different result.\n",
      "  return np.add.reduce(sorted[indexer] * weights, axis=axis) / sumval\n"
     ]
    },
    {
     "data": {
      "image/png": "[encoded data removed]",
      "text/plain": [
       "<Figure size 432x288 with 1 Axes>"
      ]
     },
     "metadata": {
      "needs_background": "light"
     },
     "output_type": "display_data"
    },
    {
     "data": {
      "image/png": "[encoded data removed]",
      "text/plain": [
       "<Figure size 432x288 with 1 Axes>"
      ]
     },
     "metadata": {
      "needs_background": "light"
     },
     "output_type": "display_data"
    },
    {
     "data": {
      "image/png": "[encoded data removed]",
      "text/plain": [
       "<Figure size 432x288 with 1 Axes>"
      ]
     },
     "metadata": {
      "needs_background": "light"
     },
     "output_type": "display_data"
    },
    {
     "data": {
      "image/png": "[encoded data removed]",
      "text/plain": [
       "<Figure size 432x288 with 1 Axes>"
      ]
     },
     "metadata": {
      "needs_background": "light"
     },
     "output_type": "display_data"
    },
    {
     "data": {
      "image/png": "[encoded data removed]",
      "text/plain": [
       "<Figure size 432x288 with 1 Axes>"
      ]
     },
     "metadata": {
      "needs_background": "light"
     },
     "output_type": "display_data"
    },
    {
     "data": {
      "image/png": "[encoded data removed]",
      "text/plain": [
       "<Figure size 432x288 with 1 Axes>"
      ]
     },
     "metadata": {
      "needs_background": "light"
     },
     "output_type": "display_data"
    },
    {
     "data": {
      "image/png": "[encoded data removed]",
      "text/plain": [
       "<Figure size 432x288 with 1 Axes>"
      ]
     },
     "metadata": {
      "needs_background": "light"
     },
     "output_type": "display_data"
    },
    {
     "data": {
      "image/png": "[encoded data removed]",
      "text/plain": [
       "<Figure size 432x288 with 1 Axes>"
      ]
     },
     "metadata": {
      "needs_background": "light"
     },
     "output_type": "display_data"
    },
    {
     "data": {
      "image/png": "[encoded data removed]",
      "text/plain": [
       "<Figure size 432x288 with 1 Axes>"
      ]
     },
     "metadata": {
      "needs_background": "light"
     },
     "output_type": "display_data"
    },
    {
     "data": {
      "image/png": "[encoded data removed]",
      "text/plain": [
       "<Figure size 432x288 with 1 Axes>"
      ]
     },
     "metadata": {
      "needs_background": "light"
     },
     "output_type": "display_data"
    },
    {
     "data": {
      "image/png": "[encoded data removed]",
      "text/plain": [
       "<Figure size 432x288 with 1 Axes>"
      ]
     },
     "metadata": {
      "needs_background": "light"
     },
     "output_type": "display_data"
    },
    {
     "data": {
      "image/png": "[encoded data removed]",
      "text/plain": [
       "<Figure size 432x288 with 1 Axes>"
      ]
     },
     "metadata": {
      "needs_background": "light"
     },
     "output_type": "display_data"
    },
    {
     "data": {
      "image/png": "[encoded data removed]",
      "text/plain": [
       "<Figure size 432x288 with 1 Axes>"
      ]
     },
     "metadata": {
      "needs_background": "light"
     },
     "output_type": "display_data"
    },
    {
     "data": {
      "image/png": "[encoded data removed]",
      "text/plain": [
       "<Figure size 432x288 with 1 Axes>"
      ]
     },
     "metadata": {
      "needs_background": "light"
     },
     "output_type": "display_data"
    },
    {
     "data": {
      "image/png": "[encoded data removed]",
      "text/plain": [
       "<Figure size 432x288 with 1 Axes>"
      ]
     },
     "metadata": {
      "needs_background": "light"
     },
     "output_type": "display_data"
    },
    {
     "data": {
      "image/png": "[encoded data removed]",
      "text/plain": [
       "<Figure size 432x288 with 1 Axes>"
      ]
     },
     "metadata": {
      "needs_background": "light"
     },
     "output_type": "display_data"
    },
    {
     "data": {
      "image/png": "[encoded data removed]",
      "text/plain": [
       "<Figure size 432x288 with 1 Axes>"
      ]
     },
     "metadata": {
      "needs_background": "light"
     },
     "output_type": "display_data"
    },
    {
     "data": {
      "image/png": "[encoded data removed]",
      "text/plain": [
       "<Figure size 432x288 with 1 Axes>"
      ]
     },
     "metadata": {
      "needs_background": "light"
     },
     "output_type": "display_data"
    },
    {
     "data": {
      "image/png": "[encoded data removed]",
      "text/plain": [
       "<Figure size 432x288 with 1 Axes>"
      ]
     },
     "metadata": {
      "needs_background": "light"
     },
     "output_type": "display_data"
    },
    {
     "data": {
      "image/png": "[encoded data removed]",
      "text/plain": [
       "<Figure size 432x288 with 1 Axes>"
      ]
     },
     "metadata": {
      "needs_background": "light"
     },
     "output_type": "display_data"
    },
    {
     "data": {
      "image/png": "[encoded data removed]",
      "text/plain": [
       "<Figure size 432x288 with 1 Axes>"
      ]
     },
     "metadata": {
      "needs_background": "light"
     },
     "output_type": "display_data"
    },
    {
     "data": {
      "image/png": "[encoded data removed]",
      "text/plain": [
       "<Figure size 432x288 with 1 Axes>"
      ]
     },
     "metadata": {
      "needs_background": "light"
     },
     "output_type": "display_data"
    },
    {
     "data": {
      "image/png": "[encoded data removed]",
      "text/plain": [
       "<Figure size 432x288 with 1 Axes>"
      ]
     },
     "metadata": {
      "needs_background": "light"
     },
     "output_type": "display_data"
    },
    {
     "data": {
      "image/png": "[encoded data removed]",
      "text/plain": [
       "<Figure size 432x288 with 1 Axes>"
      ]
     },
     "metadata": {
      "needs_background": "light"
     },
     "output_type": "display_data"
    },
    {
     "data": {
      "image/png": "[encoded data removed]",
      "text/plain": [
       "<Figure size 432x288 with 1 Axes>"
      ]
     },
     "metadata": {
      "needs_background": "light"
     },
     "output_type": "display_data"
    },
    {
     "data": {
      "image/png": "[encoded data removed]",
      "text/plain": [
       "<Figure size 432x288 with 1 Axes>"
      ]
     },
     "metadata": {
      "needs_background": "light"
     },
     "output_type": "display_data"
    },
    {
     "data": {
      "image/png": "[encoded data removed]",
      "text/plain": [
       "<Figure size 432x288 with 1 Axes>"
      ]
     },
     "metadata": {
      "needs_background": "light"
     },
     "output_type": "display_data"
    }
   ],
   "source": [
    "for i in dfg_1.columns:\n",
    "    sns.distplot(dfg_1[i], bins=20)\n",
    "    plt.show()\n"
   ]
  },
  {
   "cell_type": "markdown",
   "metadata": {},
   "source": [
    "# Filling missing data by interpolation\n",
    "\n",
    "One of the possibility to populate missing data is by means of interpolations. SInce we have lots of missing data we are obliged to start by using an unsupervised method of filling. Wi will do this for the following paramters:\n",
    "\n",
    "- Atterberg Limits (LL,IP)\n",
    "- Water content\n",
    "\n",
    "Since interpolation may interfere with regression before doing that we regress the lines where we have most available information.\n"
   ]
  },
  {
   "cell_type": "markdown",
   "metadata": {},
   "source": [
    "## Final dataframe setting up\n",
    "\n",
    "The final dataframe will be based on:\n",
    "\n",
    "- Insitu stress s'v\n",
    "- Atterberg Limits (LL,IP) \n",
    "- Water content\n",
    "- Corrected Nspt --> (N1)60\n",
    "- Undrained shear strength from Triaxial Test\n",
    "- Undrained shear strength from Vane Test\n",
    "- Limit pressure from pressuremeter"
   ]
  },
  {
   "cell_type": "markdown",
   "metadata": {},
   "source": [
    "### Use for all variable linear interpolation"
   ]
  },
  {
   "cell_type": "code",
   "execution_count": 25,
   "metadata": {},
   "outputs": [],
   "source": [
    "# we select the relevant columns only\n",
    "\n",
    "dfg=dfg[['σ^v_[kPa]', '(N1)60', 'PI', 'LL', 'wn','CU-Vane','Pl_[Mpa]','Cu-Tx']].copy()\n"
   ]
  },
  {
   "cell_type": "code",
   "execution_count": 26,
   "metadata": {},
   "outputs": [],
   "source": [
    "# Since we noticed that N160 and Cu-Tx are lognormal distributed we will use the log of Nspt\n",
    "dfg['(N1)60']=np.log10(dfg['(N1)60'])\n",
    "dfo['(N1)60']=np.log10(dfo['(N1)60'])\n",
    "dfg['Cu-Tx']=np.log10(dfg['Cu-Tx'])\n",
    "dfo['Cu-Tx']=np.log10(dfo['Cu-Tx'])\n",
    "\n"
   ]
  },
  {
   "cell_type": "markdown",
   "metadata": {},
   "source": [
    "## Fill missing values of NSTP by regression procedures\n",
    "\n",
    "We know that the SPT are directly linked with undrained resistance and that this one is also directly linked with Atterberg Limits and water content. We will therefore fill missing (N1)60 values by regression.\n",
    "First we need to check if there are lines that are filled with the wanted parameters:\n",
    "\n",
    "- The regressand : (N1)60\n",
    "- The regressors: 'σ^v_[kPa]', 'PI', 'LL', 'wn'\n",
    "\n",
    "We find that in 36 lines we have full data to perform such regression."
   ]
  },
  {
   "cell_type": "code",
   "execution_count": 27,
   "metadata": {},
   "outputs": [
    {
     "data": {
      "text/plain": [
       "(153, 8)"
      ]
     },
     "execution_count": 27,
     "metadata": {},
     "output_type": "execute_result"
    }
   ],
   "source": [
    "# dfg.dropna(subset=['σ^v_[kPa]', '(N1)60', 'PI', 'LL', 'wn']).shape\n",
    "dfg.dropna(subset=['σ^v_[kPa]']).shape"
   ]
  },
  {
   "cell_type": "code",
   "execution_count": 28,
   "metadata": {},
   "outputs": [],
   "source": [
    "# create subdatabase without Nan\n",
    "\n",
    "# dfg_train=dfg.dropna(subset=['σ^v_[kPa]', '(N1)60', 'PI', 'LL', 'wn'])\n",
    "dfg_train=dfg.dropna(subset=['σ^v_[kPa]','(N1)60'])\n",
    "\n",
    "X_train = np.array(dfg_train[['σ^v_[kPa]']])\n",
    "y_train = np.array(dfg_train['(N1)60'])"
   ]
  },
  {
   "cell_type": "code",
   "execution_count": null,
   "metadata": {},
   "outputs": [],
   "source": []
  },
  {
   "cell_type": "code",
   "execution_count": 30,
   "metadata": {},
   "outputs": [
    {
     "name": "stdout",
     "output_type": "stream",
     "text": [
      "The intercept is: 1.2084134112891542\n",
      "The coefficients are: [-0.00014295]\n"
     ]
    }
   ],
   "source": [
    "model = LinearRegression().fit(X_train, y_train)\n",
    "\n",
    "# Step 4: Get results\n",
    "r_sq = model.score(X_train, y_train)\n",
    "intercept, coefficients = model.intercept_, model.coef_\n",
    "\n",
    "sptc0 = intercept\n",
    "sptc1 = coefficients[0]\n",
    "\n",
    "\n",
    "print('The intercept is:', intercept)\n",
    "print('The coefficients are:', coefficients)"
   ]
  },
  {
   "cell_type": "markdown",
   "metadata": {},
   "source": [
    "Now that we regress SPT with available data we can regress in order to apply the regression on the interpolated data and be able to give completeness to the dataframe."
   ]
  },
  {
   "cell_type": "code",
   "execution_count": 31,
   "metadata": {},
   "outputs": [
    {
     "data": {
      "text/html": [
       "<div>\n",
       "<style scoped>\n",
       "    .dataframe tbody tr th:only-of-type {\n",
       "        vertical-align: middle;\n",
       "    }\n",
       "\n",
       "    .dataframe tbody tr th {\n",
       "        vertical-align: top;\n",
       "    }\n",
       "\n",
       "    .dataframe thead th {\n",
       "        text-align: right;\n",
       "    }\n",
       "</style>\n",
       "<table border=\"1\" class=\"dataframe\">\n",
       "  <thead>\n",
       "    <tr style=\"text-align: right;\">\n",
       "      <th></th>\n",
       "      <th>σ^v_[kPa]</th>\n",
       "      <th>(N1)60</th>\n",
       "      <th>PI</th>\n",
       "      <th>LL</th>\n",
       "      <th>wn</th>\n",
       "      <th>CU-Vane</th>\n",
       "      <th>Pl_[Mpa]</th>\n",
       "      <th>Cu-Tx</th>\n",
       "    </tr>\n",
       "    <tr>\n",
       "      <th>Zarr0,25_m</th>\n",
       "      <th></th>\n",
       "      <th></th>\n",
       "      <th></th>\n",
       "      <th></th>\n",
       "      <th></th>\n",
       "      <th></th>\n",
       "      <th></th>\n",
       "      <th></th>\n",
       "    </tr>\n",
       "  </thead>\n",
       "  <tbody>\n",
       "    <tr>\n",
       "      <td>0.75</td>\n",
       "      <td>13.500000</td>\n",
       "      <td>NaN</td>\n",
       "      <td>34.000000</td>\n",
       "      <td>57.000000</td>\n",
       "      <td>28.0</td>\n",
       "      <td>NaN</td>\n",
       "      <td>NaN</td>\n",
       "      <td>NaN</td>\n",
       "    </tr>\n",
       "    <tr>\n",
       "      <td>1.50</td>\n",
       "      <td>27.000000</td>\n",
       "      <td>0.929419</td>\n",
       "      <td>42.666667</td>\n",
       "      <td>68.666667</td>\n",
       "      <td>30.0</td>\n",
       "      <td>NaN</td>\n",
       "      <td>NaN</td>\n",
       "      <td>NaN</td>\n",
       "    </tr>\n",
       "    <tr>\n",
       "      <td>1.75</td>\n",
       "      <td>31.500000</td>\n",
       "      <td>NaN</td>\n",
       "      <td>51.333333</td>\n",
       "      <td>80.333333</td>\n",
       "      <td>30.0</td>\n",
       "      <td>90.0</td>\n",
       "      <td>NaN</td>\n",
       "      <td>NaN</td>\n",
       "    </tr>\n",
       "    <tr>\n",
       "      <td>2.00</td>\n",
       "      <td>34.333333</td>\n",
       "      <td>1.436637</td>\n",
       "      <td>60.000000</td>\n",
       "      <td>92.000000</td>\n",
       "      <td>30.0</td>\n",
       "      <td>241.0</td>\n",
       "      <td>NaN</td>\n",
       "      <td>NaN</td>\n",
       "    </tr>\n",
       "    <tr>\n",
       "      <td>2.50</td>\n",
       "      <td>44.742857</td>\n",
       "      <td>1.459263</td>\n",
       "      <td>46.000000</td>\n",
       "      <td>77.000000</td>\n",
       "      <td>27.4</td>\n",
       "      <td>241.0</td>\n",
       "      <td>NaN</td>\n",
       "      <td>NaN</td>\n",
       "    </tr>\n",
       "  </tbody>\n",
       "</table>\n",
       "</div>"
      ],
      "text/plain": [
       "            σ^v_[kPa]    (N1)60         PI         LL    wn  CU-Vane  Pl_[Mpa]  Cu-Tx\n",
       "Zarr0,25_m                                                                           \n",
       "0.75        13.500000       NaN  34.000000  57.000000  28.0      NaN       NaN    NaN\n",
       "1.50        27.000000  0.929419  42.666667  68.666667  30.0      NaN       NaN    NaN\n",
       "1.75        31.500000       NaN  51.333333  80.333333  30.0     90.0       NaN    NaN\n",
       "2.00        34.333333  1.436637  60.000000  92.000000  30.0    241.0       NaN    NaN\n",
       "2.50        44.742857  1.459263  46.000000  77.000000  27.4    241.0       NaN    NaN"
      ]
     },
     "execution_count": 31,
     "metadata": {},
     "output_type": "execute_result"
    }
   ],
   "source": [
    "dfg['PI'].interpolate(method ='linear', limit_direction ='forward', inplace=True)\n",
    "dfg['LL'].interpolate(method ='linear', limit_direction ='forward', inplace=True)\n",
    "dfg['wn'].interpolate(method ='linear', limit_direction ='forward', inplace=True)\n",
    "dfg.head()"
   ]
  },
  {
   "cell_type": "code",
   "execution_count": 36,
   "metadata": {},
   "outputs": [],
   "source": [
    "dfg['(N1)60']= dfg.apply(\n",
    "    lambda row: \n",
    "            sptc1 * row['σ^v_[kPa]']  \n",
    "            if np.isnan(row['(N1)60']) else row['(N1)60'], axis=1)"
   ]
  },
  {
   "cell_type": "code",
   "execution_count": 37,
   "metadata": {},
   "outputs": [
    {
     "data": {
      "text/html": [
       "<div>\n",
       "<style scoped>\n",
       "    .dataframe tbody tr th:only-of-type {\n",
       "        vertical-align: middle;\n",
       "    }\n",
       "\n",
       "    .dataframe tbody tr th {\n",
       "        vertical-align: top;\n",
       "    }\n",
       "\n",
       "    .dataframe thead th {\n",
       "        text-align: right;\n",
       "    }\n",
       "</style>\n",
       "<table border=\"1\" class=\"dataframe\">\n",
       "  <thead>\n",
       "    <tr style=\"text-align: right;\">\n",
       "      <th></th>\n",
       "      <th>σ^v_[kPa]</th>\n",
       "      <th>(N1)60</th>\n",
       "      <th>PI</th>\n",
       "      <th>LL</th>\n",
       "      <th>wn</th>\n",
       "      <th>CU-Vane</th>\n",
       "      <th>Pl_[Mpa]</th>\n",
       "      <th>Cu-Tx</th>\n",
       "    </tr>\n",
       "    <tr>\n",
       "      <th>Zarr0,25_m</th>\n",
       "      <th></th>\n",
       "      <th></th>\n",
       "      <th></th>\n",
       "      <th></th>\n",
       "      <th></th>\n",
       "      <th></th>\n",
       "      <th></th>\n",
       "      <th></th>\n",
       "    </tr>\n",
       "  </thead>\n",
       "  <tbody>\n",
       "    <tr>\n",
       "      <td>0.75</td>\n",
       "      <td>13.500000</td>\n",
       "      <td>-0.001930</td>\n",
       "      <td>34.000000</td>\n",
       "      <td>57.000000</td>\n",
       "      <td>28.0</td>\n",
       "      <td>NaN</td>\n",
       "      <td>NaN</td>\n",
       "      <td>NaN</td>\n",
       "    </tr>\n",
       "    <tr>\n",
       "      <td>1.50</td>\n",
       "      <td>27.000000</td>\n",
       "      <td>0.929419</td>\n",
       "      <td>42.666667</td>\n",
       "      <td>68.666667</td>\n",
       "      <td>30.0</td>\n",
       "      <td>NaN</td>\n",
       "      <td>NaN</td>\n",
       "      <td>NaN</td>\n",
       "    </tr>\n",
       "    <tr>\n",
       "      <td>1.75</td>\n",
       "      <td>31.500000</td>\n",
       "      <td>-0.004503</td>\n",
       "      <td>51.333333</td>\n",
       "      <td>80.333333</td>\n",
       "      <td>30.0</td>\n",
       "      <td>90.0</td>\n",
       "      <td>NaN</td>\n",
       "      <td>NaN</td>\n",
       "    </tr>\n",
       "    <tr>\n",
       "      <td>2.00</td>\n",
       "      <td>34.333333</td>\n",
       "      <td>1.436637</td>\n",
       "      <td>60.000000</td>\n",
       "      <td>92.000000</td>\n",
       "      <td>30.0</td>\n",
       "      <td>241.0</td>\n",
       "      <td>NaN</td>\n",
       "      <td>NaN</td>\n",
       "    </tr>\n",
       "    <tr>\n",
       "      <td>2.50</td>\n",
       "      <td>44.742857</td>\n",
       "      <td>1.459263</td>\n",
       "      <td>46.000000</td>\n",
       "      <td>77.000000</td>\n",
       "      <td>27.4</td>\n",
       "      <td>241.0</td>\n",
       "      <td>NaN</td>\n",
       "      <td>NaN</td>\n",
       "    </tr>\n",
       "  </tbody>\n",
       "</table>\n",
       "</div>"
      ],
      "text/plain": [
       "            σ^v_[kPa]    (N1)60         PI         LL    wn  CU-Vane  Pl_[Mpa]  Cu-Tx\n",
       "Zarr0,25_m                                                                           \n",
       "0.75        13.500000 -0.001930  34.000000  57.000000  28.0      NaN       NaN    NaN\n",
       "1.50        27.000000  0.929419  42.666667  68.666667  30.0      NaN       NaN    NaN\n",
       "1.75        31.500000 -0.004503  51.333333  80.333333  30.0     90.0       NaN    NaN\n",
       "2.00        34.333333  1.436637  60.000000  92.000000  30.0    241.0       NaN    NaN\n",
       "2.50        44.742857  1.459263  46.000000  77.000000  27.4    241.0       NaN    NaN"
      ]
     },
     "execution_count": 37,
     "metadata": {},
     "output_type": "execute_result"
    }
   ],
   "source": [
    "dfg.head()"
   ]
  },
  {
   "cell_type": "markdown",
   "metadata": {},
   "source": [
    "## Fill missing values of Vane Undrained shear resistance (cu) by regression procedures\n",
    "\n",
    "We know that the Cu is directly linked with Atterberg Limits and water content. We also know that for clayey soil is linked with SPT. We will therefore fill missing Cu-Vane values by regression. First we need to check if there are lines that are filled with the wanted parameters:\n",
    "\n",
    "The regressand : Cu-TX\n",
    "The regressors: 'σ^v_[kPa]', 'PI', 'LL', 'wn'\n",
    "We find that in 36 lines we have full data to perform such regression."
   ]
  },
  {
   "cell_type": "code",
   "execution_count": 38,
   "metadata": {},
   "outputs": [],
   "source": [
    "# dfg.dropna(subset=['σ^v_[kPa]', '(N1)60', 'PI', 'LL', 'wn','CU-Vane']).shape"
   ]
  },
  {
   "cell_type": "code",
   "execution_count": 39,
   "metadata": {},
   "outputs": [],
   "source": [
    "# create subdatabase without Nan\n",
    "\n",
    "# dfg_train=dfg.dropna(subset=['σ^v_[kPa]', '(N1)60', 'PI', 'LL', 'wn','CU-Vane'])\n",
    "dfg_train=dfg.dropna(subset=['σ^v_[kPa]','CU-Vane'])\n",
    "\n",
    "X_train = np.array(dfg_train[['σ^v_[kPa]']])\n",
    "y_train = np.array(dfg_train['CU-Vane'])"
   ]
  },
  {
   "cell_type": "code",
   "execution_count": 41,
   "metadata": {},
   "outputs": [
    {
     "name": "stdout",
     "output_type": "stream",
     "text": [
      "The intercept is: 175.46497561220355\n",
      "The coefficients are: [0.3012383]\n"
     ]
    }
   ],
   "source": [
    "model = LinearRegression().fit(X_train, y_train)\n",
    "\n",
    "# Step 4: Get results\n",
    "r_sq = model.score(X_train, y_train)\n",
    "intercept, coefficients = model.intercept_, model.coef_\n",
    "\n",
    "vanec0 = intercept\n",
    "vanec1 = coefficients[0]\n",
    "\n",
    "\n",
    "\n",
    "print('The intercept is:', intercept)\n",
    "print('The coefficients are:', coefficients)"
   ]
  },
  {
   "cell_type": "code",
   "execution_count": 43,
   "metadata": {},
   "outputs": [],
   "source": [
    "dfg['CU-Vane']= dfg.apply(\n",
    "    lambda row: \n",
    "            vanec1 * row['σ^v_[kPa]'] \n",
    "            if np.isnan(row['CU-Vane']) else row['CU-Vane'], axis=1)"
   ]
  },
  {
   "cell_type": "markdown",
   "metadata": {},
   "source": [
    "## Fill missing values Limit Pressure by regression procedures\n",
    "\n",
    "Limit Presure is directly linked with Undrained Shear Resistance wich is linked with Atterberg Limits and water content. We also know that for clayey soil is linked with SPT. We will therefore fill missing Cu-Vane values by regression. First we need to check if there are lines that are filled with the wanted parameters:\n",
    "\n",
    "The regressand : Pl_[Mpa]\n",
    "The regressors: 'σ^v_[kPa]', 'PI', 'LL', 'wn', Cu-TX, CU-Vane\n",
    "We find that in 36 lines we have full data to perform such regression."
   ]
  },
  {
   "cell_type": "code",
   "execution_count": 44,
   "metadata": {},
   "outputs": [],
   "source": [
    "# dfg.dropna(subset=['σ^v_[kPa]', '(N1)60', 'PI', 'LL', 'wn','CU-Vane','Pl_[Mpa]']).shape"
   ]
  },
  {
   "cell_type": "code",
   "execution_count": 45,
   "metadata": {},
   "outputs": [],
   "source": [
    "# create subdatabase without Nan\n",
    "\n",
    "# dfg_train=dfg.dropna(subset=['σ^v_[kPa]', '(N1)60', 'PI', 'LL', 'wn','CU-Vane','Pl_[Mpa]'])\n",
    "\n",
    "dfg_train=dfg.dropna(subset=['σ^v_[kPa]','Pl_[Mpa]'])\n",
    "\n",
    "X_train = np.array(dfg_train[['σ^v_[kPa]']])\n",
    "y_train = np.array(dfg_train['Pl_[Mpa]'])"
   ]
  },
  {
   "cell_type": "code",
   "execution_count": 46,
   "metadata": {},
   "outputs": [
    {
     "name": "stdout",
     "output_type": "stream",
     "text": [
      "The intercept is: 1.2239538322633314\n",
      "The coefficients are: [-0.00196588]\n"
     ]
    }
   ],
   "source": [
    "model = LinearRegression().fit(X_train, y_train)\n",
    "\n",
    "# Step 4: Get results\n",
    "r_sq = model.score(X_train, y_train)\n",
    "intercept, coefficients = model.intercept_, model.coef_\n",
    "\n",
    "plc0 = intercept\n",
    "plc1 = coefficients[0]\n",
    "\n",
    "\n",
    "\n",
    "print('The intercept is:', intercept)\n",
    "print('The coefficients are:', coefficients)"
   ]
  },
  {
   "cell_type": "code",
   "execution_count": 47,
   "metadata": {},
   "outputs": [],
   "source": [
    "dfg[\"Pl_[Mpa]\"]= dfg.apply(\n",
    "    lambda row: \n",
    "            plc1 * row['σ^v_[kPa]'] \n",
    "            if np.isnan(row[\"Pl_[Mpa]\"]) else row[\"Pl_[Mpa]\"], axis=1)"
   ]
  },
  {
   "cell_type": "markdown",
   "metadata": {},
   "source": [
    "## Fill missing values Triaxial Cu by regression procedures\n",
    "\n",
    "Triaxial Test Cu is directly linked with Vane test Undrained Shear Resistance and Limit pressures wich are linked with Atterberg Limits and water content. We also know that for clayey soil is linked with SPT. We will therefore fill missing Cu-Vane values by regression. First we need to check if there are lines that are filled with the wanted parameters:\n",
    "\n",
    "The regressand : Cu-Tx\n",
    "The regressors: 'σ^v_[kPa]', 'PI', 'LL', 'wn', Cu-TX, CU-Vane, Pl_[Mpa]\n",
    "We find that in 36 lines we have full data to perform such regression."
   ]
  },
  {
   "cell_type": "code",
   "execution_count": 48,
   "metadata": {},
   "outputs": [
    {
     "data": {
      "text/plain": [
       "(26, 8)"
      ]
     },
     "execution_count": 48,
     "metadata": {},
     "output_type": "execute_result"
    }
   ],
   "source": [
    "dfg.dropna(subset=['σ^v_[kPa]', '(N1)60', 'PI', 'LL', 'wn','CU-Vane','Pl_[Mpa]','Cu-Tx']).shape"
   ]
  },
  {
   "cell_type": "code",
   "execution_count": 49,
   "metadata": {},
   "outputs": [],
   "source": [
    "# create subdatabase without Nan\n",
    "\n",
    "dfg_train=dfg.dropna(subset=['σ^v_[kPa]', '(N1)60', 'PI', 'LL', 'wn','CU-Vane','Pl_[Mpa]','Cu-Tx'])\n",
    "\n",
    "X_train = np.array(dfg_train[['σ^v_[kPa]', 'PI', 'LL', 'wn','(N1)60','CU-Vane','Pl_[Mpa]']])\n",
    "y_train = np.array(dfg_train['Cu-Tx'])"
   ]
  },
  {
   "cell_type": "code",
   "execution_count": 50,
   "metadata": {},
   "outputs": [
    {
     "name": "stdout",
     "output_type": "stream",
     "text": [
      "The intercept is: 2.119689373110444\n",
      "The coefficients are: [ 1.51411432e-03  2.31739758e-02 -1.93090030e-02  4.61198257e-03\n",
      " -1.22790732e-02  7.36449468e-05 -2.97656921e-06]\n"
     ]
    }
   ],
   "source": [
    "model = LinearRegression().fit(X_train, y_train)\n",
    "\n",
    "# Step 4: Get results\n",
    "r_sq = model.score(X_train, y_train)\n",
    "intercept, coefficients = model.intercept_, model.coef_\n",
    "\n",
    "plc0 = intercept\n",
    "plc1 = coefficients[0]\n",
    "plc2 = coefficients[1]\n",
    "plc3 = coefficients[2]\n",
    "plc4 = coefficients[3]\n",
    "plc5 = coefficients[4]\n",
    "plc6 = coefficients[5]\n",
    "plc7 = coefficients[6]\n",
    "\n",
    "print('The intercept is:', intercept)\n",
    "print('The coefficients are:', coefficients)"
   ]
  },
  {
   "cell_type": "code",
   "execution_count": 51,
   "metadata": {},
   "outputs": [],
   "source": [
    "dfg[\"Cu-Tx\"]= dfg.apply(\n",
    "    lambda row: \n",
    "            plc1 * row['σ^v_[kPa]'] + plc2 * row.PI + plc3 * row.LL + plc4 * row.wn + plc5 * row['(N1)60'] + plc6 * row['CU-Vane']+ plc6 * row['Pl_[Mpa]'] + plc0  \n",
    "            if np.isnan(row[\"Cu-Tx\"]) else row[\"Cu-Tx\"], axis=1)"
   ]
  },
  {
   "cell_type": "code",
   "execution_count": 52,
   "metadata": {},
   "outputs": [
    {
     "data": {
      "text/html": [
       "<div>\n",
       "<style scoped>\n",
       "    .dataframe tbody tr th:only-of-type {\n",
       "        vertical-align: middle;\n",
       "    }\n",
       "\n",
       "    .dataframe tbody tr th {\n",
       "        vertical-align: top;\n",
       "    }\n",
       "\n",
       "    .dataframe thead th {\n",
       "        text-align: right;\n",
       "    }\n",
       "</style>\n",
       "<table border=\"1\" class=\"dataframe\">\n",
       "  <thead>\n",
       "    <tr style=\"text-align: right;\">\n",
       "      <th></th>\n",
       "      <th>σ^v_[kPa]</th>\n",
       "      <th>(N1)60</th>\n",
       "      <th>PI</th>\n",
       "      <th>LL</th>\n",
       "      <th>wn</th>\n",
       "      <th>CU-Vane</th>\n",
       "      <th>Pl_[Mpa]</th>\n",
       "      <th>Cu-Tx</th>\n",
       "    </tr>\n",
       "    <tr>\n",
       "      <th>Zarr0,25_m</th>\n",
       "      <th></th>\n",
       "      <th></th>\n",
       "      <th></th>\n",
       "      <th></th>\n",
       "      <th></th>\n",
       "      <th></th>\n",
       "      <th></th>\n",
       "      <th></th>\n",
       "    </tr>\n",
       "  </thead>\n",
       "  <tbody>\n",
       "    <tr>\n",
       "      <td>0.75</td>\n",
       "      <td>13.500000</td>\n",
       "      <td>-0.001930</td>\n",
       "      <td>34.000000</td>\n",
       "      <td>57.000000</td>\n",
       "      <td>28.0</td>\n",
       "      <td>4.066717</td>\n",
       "      <td>-0.026539</td>\n",
       "      <td>1.956889</td>\n",
       "    </tr>\n",
       "    <tr>\n",
       "      <td>1.50</td>\n",
       "      <td>27.000000</td>\n",
       "      <td>0.929419</td>\n",
       "      <td>42.666667</td>\n",
       "      <td>68.666667</td>\n",
       "      <td>30.0</td>\n",
       "      <td>8.133434</td>\n",
       "      <td>-0.053079</td>\n",
       "      <td>1.950984</td>\n",
       "    </tr>\n",
       "    <tr>\n",
       "      <td>1.75</td>\n",
       "      <td>31.500000</td>\n",
       "      <td>-0.004503</td>\n",
       "      <td>51.333333</td>\n",
       "      <td>80.333333</td>\n",
       "      <td>30.0</td>\n",
       "      <td>90.000000</td>\n",
       "      <td>-0.061925</td>\n",
       "      <td>1.950863</td>\n",
       "    </tr>\n",
       "    <tr>\n",
       "      <td>2.00</td>\n",
       "      <td>34.333333</td>\n",
       "      <td>1.436637</td>\n",
       "      <td>60.000000</td>\n",
       "      <td>92.000000</td>\n",
       "      <td>30.0</td>\n",
       "      <td>241.000000</td>\n",
       "      <td>-0.067495</td>\n",
       "      <td>1.924147</td>\n",
       "    </tr>\n",
       "    <tr>\n",
       "      <td>2.50</td>\n",
       "      <td>44.742857</td>\n",
       "      <td>1.459263</td>\n",
       "      <td>46.000000</td>\n",
       "      <td>77.000000</td>\n",
       "      <td>27.4</td>\n",
       "      <td>241.000000</td>\n",
       "      <td>-0.087959</td>\n",
       "      <td>1.892837</td>\n",
       "    </tr>\n",
       "    <tr>\n",
       "      <td>...</td>\n",
       "      <td>...</td>\n",
       "      <td>...</td>\n",
       "      <td>...</td>\n",
       "      <td>...</td>\n",
       "      <td>...</td>\n",
       "      <td>...</td>\n",
       "      <td>...</td>\n",
       "      <td>...</td>\n",
       "    </tr>\n",
       "    <tr>\n",
       "      <td>59.50</td>\n",
       "      <td>555.750000</td>\n",
       "      <td>-0.079443</td>\n",
       "      <td>47.000000</td>\n",
       "      <td>81.000000</td>\n",
       "      <td>45.0</td>\n",
       "      <td>167.413185</td>\n",
       "      <td>0.250000</td>\n",
       "      <td>2.707168</td>\n",
       "    </tr>\n",
       "    <tr>\n",
       "      <td>60.00</td>\n",
       "      <td>555.000000</td>\n",
       "      <td>-0.079336</td>\n",
       "      <td>47.000000</td>\n",
       "      <td>81.000000</td>\n",
       "      <td>45.0</td>\n",
       "      <td>167.187256</td>\n",
       "      <td>0.230000</td>\n",
       "      <td>2.706013</td>\n",
       "    </tr>\n",
       "    <tr>\n",
       "      <td>61.50</td>\n",
       "      <td>572.250000</td>\n",
       "      <td>1.316012</td>\n",
       "      <td>47.000000</td>\n",
       "      <td>81.000000</td>\n",
       "      <td>45.0</td>\n",
       "      <td>172.383617</td>\n",
       "      <td>-1.124976</td>\n",
       "      <td>2.715281</td>\n",
       "    </tr>\n",
       "    <tr>\n",
       "      <td>63.00</td>\n",
       "      <td>583.500000</td>\n",
       "      <td>1.425727</td>\n",
       "      <td>47.000000</td>\n",
       "      <td>81.000000</td>\n",
       "      <td>45.0</td>\n",
       "      <td>175.772548</td>\n",
       "      <td>-1.147092</td>\n",
       "      <td>2.731216</td>\n",
       "    </tr>\n",
       "    <tr>\n",
       "      <td>66.50</td>\n",
       "      <td>609.750000</td>\n",
       "      <td>1.302229</td>\n",
       "      <td>47.000000</td>\n",
       "      <td>81.000000</td>\n",
       "      <td>45.0</td>\n",
       "      <td>183.680053</td>\n",
       "      <td>-1.198696</td>\n",
       "      <td>2.773056</td>\n",
       "    </tr>\n",
       "  </tbody>\n",
       "</table>\n",
       "<p>153 rows × 8 columns</p>\n",
       "</div>"
      ],
      "text/plain": [
       "             σ^v_[kPa]    (N1)60         PI         LL    wn     CU-Vane  Pl_[Mpa]     Cu-Tx\n",
       "Zarr0,25_m                                                                                  \n",
       "0.75         13.500000 -0.001930  34.000000  57.000000  28.0    4.066717 -0.026539  1.956889\n",
       "1.50         27.000000  0.929419  42.666667  68.666667  30.0    8.133434 -0.053079  1.950984\n",
       "1.75         31.500000 -0.004503  51.333333  80.333333  30.0   90.000000 -0.061925  1.950863\n",
       "2.00         34.333333  1.436637  60.000000  92.000000  30.0  241.000000 -0.067495  1.924147\n",
       "2.50         44.742857  1.459263  46.000000  77.000000  27.4  241.000000 -0.087959  1.892837\n",
       "...                ...       ...        ...        ...   ...         ...       ...       ...\n",
       "59.50       555.750000 -0.079443  47.000000  81.000000  45.0  167.413185  0.250000  2.707168\n",
       "60.00       555.000000 -0.079336  47.000000  81.000000  45.0  167.187256  0.230000  2.706013\n",
       "61.50       572.250000  1.316012  47.000000  81.000000  45.0  172.383617 -1.124976  2.715281\n",
       "63.00       583.500000  1.425727  47.000000  81.000000  45.0  175.772548 -1.147092  2.731216\n",
       "66.50       609.750000  1.302229  47.000000  81.000000  45.0  183.680053 -1.198696  2.773056\n",
       "\n",
       "[153 rows x 8 columns]"
      ]
     },
     "execution_count": 52,
     "metadata": {},
     "output_type": "execute_result"
    }
   ],
   "source": [
    "dfg"
   ]
  },
  {
   "cell_type": "code",
   "execution_count": 53,
   "metadata": {
    "scrolled": true
   },
   "outputs": [
    {
     "data": {
      "text/plain": [
       "Text(0.5, 1.0, 'paramters vs depth')"
      ]
     },
     "execution_count": 53,
     "metadata": {},
     "output_type": "execute_result"
    },
    {
     "data": {
      "image/png": "[encoded data removed]",
      "text/plain": [
       "<Figure size 600x1000 with 1 Axes>"
      ]
     },
     "metadata": {},
     "output_type": "display_data"
    }
   ],
   "source": [
    "import matplotlib as mpl\n",
    "mpl.rcParams.update(mpl.rcParamsDefault)\n",
    "\n",
    "plt.figure(figsize=(6,10))\n",
    "plt.plot( 10**dfg['Cu-Tx'],dfg.index, 'b-', label='CU TX')\n",
    "plt.plot( 10**dfo['Cu-Tx'],dfo['Zarr0,25_m'], 'b.', label='CU TX Real',markersize=10)\n",
    "plt.plot( dfg['CU-Vane'],dfg.index, 'r-', label='CU Vane')\n",
    "plt.plot( dfo['CU-Vane'],dfo['Zarr0,25_m'], 'r.', label='CU Vane Real',markersize=10)\n",
    "plt.plot( 10**dfg['(N1)60']*10,dfg.index, 'm-', label='CU SPT Stroud')\n",
    "plt.plot( 10**dfo['(N1)60']*10,dfo['Zarr0,25_m'], 'm.', label='CU SPT Stroud__Real',markersize=10)\n",
    "plt.ylim(60,0); plt.ylabel('depth [m]'); plt.legend(fontsize=10, loc=4); plt.title('paramters vs depth')\n"
   ]
  },
  {
   "cell_type": "markdown",
   "metadata": {},
   "source": [
    "## Save the database as h5 py format\n",
    "\n",
    "it requires pip intall tables\n",
    "e import h5py"
   ]
  },
  {
   "cell_type": "code",
   "execution_count": null,
   "metadata": {},
   "outputs": [],
   "source": [
    "import h5py"
   ]
  },
  {
   "cell_type": "code",
   "execution_count": null,
   "metadata": {},
   "outputs": [],
   "source": [
    "dfg.to_hdf('dfg.h5', key='losses')\n",
    "dfo.to_hdf('dfo.h5', key='losses')"
   ]
  },
  {
   "cell_type": "code",
   "execution_count": null,
   "metadata": {},
   "outputs": [],
   "source": [
    "dfg = pd.read_hdf('dfg.h5', key='losses')\n",
    "dfo = pd.read_hdf('dfo.h5', key='losses')"
   ]
  },
  {
   "cell_type": "markdown",
   "metadata": {},
   "source": [
    "## Define correlation between variables"
   ]
  },
  {
   "cell_type": "markdown",
   "metadata": {},
   "source": [
    "Before running a regression the first thing do do is :\n",
    "\n",
    "- Check the principal rules of validi of LR\n",
    "   - Homoskedaticity\n",
    "   - Errors non correlated with regressor\n",
    "   - ...\n",
    "   - ...\n",
    "- Successively we have to discern the variables that are correlated with the regressand. In fact selecting too many variables may lead to overfitting or may lead to wrong estimation."
   ]
  },
  {
   "cell_type": "code",
   "execution_count": 54,
   "metadata": {},
   "outputs": [
    {
     "data": {
      "text/plain": [
       "Pl_[Mpa]    -0.337681\n",
       "(N1)60       0.043637\n",
       "PI           0.067706\n",
       "LL           0.107663\n",
       "CU-Vane      0.216101\n",
       "wn           0.308927\n",
       "σ^v_[kPa]    0.939897\n",
       "Cu-Tx        1.000000\n",
       "Name: Cu-Tx, dtype: float64"
      ]
     },
     "execution_count": 54,
     "metadata": {},
     "output_type": "execute_result"
    }
   ],
   "source": [
    "dfg.corr()['Cu-Tx'].sort_values()"
   ]
  },
  {
   "cell_type": "code",
   "execution_count": null,
   "metadata": {},
   "outputs": [],
   "source": []
  },
  {
   "cell_type": "code",
   "execution_count": null,
   "metadata": {},
   "outputs": [],
   "source": [
    "# Calculate correlation coefficient\n",
    "def corrfunc(x, y, **kws):\n",
    "    r, _ = stats.pearsonr(x, y)\n",
    "    ax = plt.gca()\n",
    "    ax.annotate(\"r = {:.2f}\".format(r),\n",
    "                xy=(.1, .6), xycoords=ax.transAxes,\n",
    "               size = 24)\n",
    "    \n",
    "cmap = sns.cubehelix_palette(light=1, dark = 0.1,\n",
    "                             hue = 0.5, as_cmap=True)\n",
    "\n",
    "sns.set_context(font_scale=2)\n",
    "\n",
    "# Pair grid set up\n",
    "g = sns.PairGrid(dfg)\n",
    "\n",
    "# Scatter plot on the upper triangle\n",
    "g.map_upper(plt.scatter, s=10, color = 'b')\n",
    "\n",
    "# Distribution on the diagonal\n",
    "g.map_diag(sns.distplot, kde=False, color = 'red')\n",
    "\n",
    "# Density Plot and Correlation coefficients on the lower triangle\n",
    "g.map_lower(sns.kdeplot, cmap = cmap)\n",
    "g.map_lower(corrfunc);"
   ]
  },
  {
   "cell_type": "markdown",
   "metadata": {},
   "source": [
    "## Let's train the model\n",
    "\n",
    "We will now use the package sklearn that envelop several machine learning algorithms. We will train some of them and we will check wich one is the most performing.\n",
    "\n",
    "First of all we are going to split the data randomly between train and test data, by mean of a method enmbedded in the sklearn package. The parameters are set such that 5% of the data will be kept aside from training and will be used to check the godness of the model.\n"
   ]
  },
  {
   "cell_type": "code",
   "execution_count": null,
   "metadata": {},
   "outputs": [],
   "source": [
    "# crate a df with simple names otherwise pymc3 formula won't work\n",
    "dfg.columns.tolist()"
   ]
  },
  {
   "cell_type": "code",
   "execution_count": null,
   "metadata": {},
   "outputs": [],
   "source": [
    "dfg.columns = ['σpv', 'n160', 'pi', 'll', 'wn', 'cuvane', 'pl', 'cutx']"
   ]
  },
  {
   "cell_type": "code",
   "execution_count": null,
   "metadata": {},
   "outputs": [],
   "source": [
    "dfg.iloc[:,-1:].head()"
   ]
  },
  {
   "cell_type": "code",
   "execution_count": null,
   "metadata": {},
   "outputs": [],
   "source": [
    "X_train, X_test, y_train, y_test = train_test_split(dfg.iloc[:,:-1], \n",
    "                                                    dfg.iloc[:,-1:], \n",
    "                                                    test_size = 0.05,\n",
    "                                                    random_state=42)"
   ]
  },
  {
   "cell_type": "markdown",
   "metadata": {},
   "source": [
    "For this regression task, we will use two standard metrics:\n",
    "\n",
    "- Mean Absolute Error (MAE)\n",
    "\n",
    "$$\\begin{equation}\n",
    "\\frac{1}{n} \\sum_{i=1}^{n} \\lvert x_{i} - \\bar{x_{i}}\\lvert\n",
    "\\end{equation}$$\n",
    "\n",
    "- Root Mean Squared Error (RMSE)\n",
    "\n",
    "$$\\begin{equation}\n",
    "\\sqrt{\\frac{1}{n} \\sum_{i=1}^{n} (x_{i} - \\bar{x_{i}})^2}\n",
    "\\end{equation}$$"
   ]
  },
  {
   "cell_type": "code",
   "execution_count": null,
   "metadata": {},
   "outputs": [],
   "source": [
    "# Calculate mae and rmse\n",
    "def evaluate_predictions(predictions, real):\n",
    "    predictions=np.array(predictions)  # correzione\n",
    "    real=np.array(real)                # correzione\n",
    "    mae = np.mean(abs(predictions - real))\n",
    "    rmse = np.sqrt(np.mean((predictions - real) ** 2))\n",
    "    \n",
    "    return mae, rmse"
   ]
  },
  {
   "cell_type": "code",
   "execution_count": null,
   "metadata": {},
   "outputs": [],
   "source": [
    "# Naive baseline is the median\n",
    "median_pred = y_train.median()\n",
    "median_preds = [median_pred for _ in range(len(X_test))]\n",
    "median_preds = pd.DataFrame(median_preds)\n",
    "real = y_test"
   ]
  },
  {
   "cell_type": "code",
   "execution_count": null,
   "metadata": {},
   "outputs": [],
   "source": [
    "# Display the naive baseline metrics\n",
    "mb_mae, mb_rmse = evaluate_predictions(median_preds, real)\n",
    "print('Median Baseline  MAE: {:.4f}'.format(mb_mae))\n",
    "print('Median Baseline RMSE: {:.4f}'.format(mb_rmse))"
   ]
  },
  {
   "cell_type": "code",
   "execution_count": null,
   "metadata": {},
   "outputs": [],
   "source": [
    "# Evaluate several ml models by training on training set and testing on testing set\n",
    "def evaluate(X_train, X_test, y_train, y_test):\n",
    "    \n",
    "    X_train = np.array(X_train)\n",
    "    X_test = np.array(X_test)\n",
    "    y_train = np.array(y_train)\n",
    "    y_test = np.array(y_test)\n",
    "    \n",
    "    # Names of models\n",
    "    model_name_list = ['Linear Regression', 'ElasticNet Regression',\n",
    "                      'Random Forest', 'Extra Trees', 'SVM',\n",
    "                       'Gradient Boosted', 'Baseline']\n",
    "    \n",
    "    # Instantiate the models\n",
    "    model1 = LinearRegression()\n",
    "    model2 = ElasticNet(alpha=1.0, l1_ratio=0.5)\n",
    "    model3 = RandomForestRegressor(n_estimators=50)\n",
    "    model4 = ExtraTreesRegressor(n_estimators=50)\n",
    "    model5 = SVR(kernel='rbf', degree=3, C=1.0, gamma='auto')\n",
    "    model6 = GradientBoostingRegressor(n_estimators=20)\n",
    "    \n",
    "    \n",
    "    # Dataframe for results\n",
    "    results = pd.DataFrame(columns=['mae', 'rmse'], index = model_name_list)\n",
    "    \n",
    "    # Train and predict with each model\n",
    "    for i, model in enumerate([model1, model2, model3, model4, model5, model6]):\n",
    "        model.fit(X_train, y_train)\n",
    "        predictions = model.predict(X_test)\n",
    "        \n",
    "        # Metrics\n",
    "        mae = np.mean(abs(predictions - y_test))\n",
    "        rmse = np.sqrt(np.mean((predictions - y_test) ** 2))\n",
    "        \n",
    "        # Insert results into the dataframe\n",
    "        model_name = model_name_list[i]\n",
    "        results.loc[model_name, :] = [mae, rmse]\n",
    "    \n",
    "    # Median Value Baseline Metrics\n",
    "    baseline = np.median(y_train)\n",
    "    baseline_mae = np.mean(abs(baseline - y_test))\n",
    "    baseline_rmse = np.sqrt(np.mean((baseline - y_test) ** 2))\n",
    "    \n",
    "    results.loc['Baseline', :] = [baseline_mae, baseline_rmse]\n",
    "    \n",
    "    return results"
   ]
  },
  {
   "cell_type": "code",
   "execution_count": null,
   "metadata": {},
   "outputs": [],
   "source": [
    "results = evaluate(X_train, X_test, y_train, y_test)"
   ]
  },
  {
   "cell_type": "code",
   "execution_count": null,
   "metadata": {},
   "outputs": [],
   "source": [
    "plt.figure(figsize=(12, 8))\n",
    "matplotlib.rcParams['font.size'] = 16\n",
    "# Root mean squared error\n",
    "ax =  plt.subplot(1, 2, 1)\n",
    "results.sort_values('mae', ascending = True).plot.bar(y = 'mae', color = 'b', ax = ax)\n",
    "plt.title('Model Mean Absolute Error'); plt.ylabel('MAE');\n",
    "\n",
    "# Median absolute percentage error\n",
    "ax = plt.subplot(1, 2, 2)\n",
    "results.sort_values('rmse', ascending = True).plot.bar(y = 'rmse', color = 'r', ax = ax)\n",
    "plt.title('Model Root Mean Squared Error'); plt.ylabel('RMSE');\n",
    "\n",
    "plt.tight_layout()"
   ]
  },
  {
   "cell_type": "code",
   "execution_count": null,
   "metadata": {},
   "outputs": [],
   "source": [
    "results"
   ]
  },
  {
   "cell_type": "markdown",
   "metadata": {},
   "source": [
    "## Formula from Ordinary Least Squares Linear Regression"
   ]
  },
  {
   "cell_type": "code",
   "execution_count": null,
   "metadata": {},
   "outputs": [],
   "source": [
    "lr = LinearRegression()\n",
    "lr.fit(np.array(X_train), np.array(y_train))"
   ]
  },
  {
   "cell_type": "code",
   "execution_count": null,
   "metadata": {},
   "outputs": [],
   "source": [
    "lr.coef_ # sono 7 coefficienti attenzione doppio array([[]])\n",
    "X_train.columns.tolist(),y_train.columns.tolist()"
   ]
  },
  {
   "cell_type": "code",
   "execution_count": null,
   "metadata": {},
   "outputs": [],
   "source": [
    "lr.coef_[0],X_train.columns[:]"
   ]
  },
  {
   "cell_type": "code",
   "execution_count": null,
   "metadata": {},
   "outputs": [],
   "source": [
    "lr = LinearRegression()\n",
    "lr.fit(X_train, y_train)\n",
    "\n",
    "ols_formula = 'log10(cutx)=%0.4f+' % lr.intercept_\n",
    "for i, col in enumerate(X_train.columns[:]):\n",
    "    ols_formula += ' %0.4f * %s +' % (lr.coef_[0][i], col)\n",
    "\n",
    "' '.join(ols_formula.split(' ')[:-1]).replace('n160 ','log10(N1,60)') #eliminate last '+' and add Log10 for SPT"
   ]
  },
  {
   "cell_type": "markdown",
   "metadata": {},
   "source": [
    "## Implementing Bayesian Linear Regression"
   ]
  },
  {
   "cell_type": "code",
   "execution_count": null,
   "metadata": {},
   "outputs": [],
   "source": [
    "# Formula for Bayesian Linear Regression (follows R formula syntax\n",
    "formula = 'cutx ~ ' + ' + '.join(['%s' % variable for variable in X_train.columns[0:]])\n",
    "formula"
   ]
  },
  {
   "cell_type": "markdown",
   "metadata": {},
   "source": [
    "Create Model in PyMC3 and Sample from Posterior.\n",
    "We now build the model using the formula defined above and a normal distribution for the data likelihood. Then, we let a Markov Chain Monte Carlo algorithm draw samples from the posterior to approximate the posterior for each of the model parameters"
   ]
  },
  {
   "cell_type": "code",
   "execution_count": null,
   "metadata": {},
   "outputs": [],
   "source": [
    "# Context for the model\n",
    "# pm stands for pymc3 \n",
    "\n",
    "with pm.Model() as normal_model:\n",
    "    \n",
    "    # The prior for the model parameters will be a normal distribution\n",
    "    family = pm.glm.families.Normal()\n",
    "    \n",
    "    Data=y_train.merge(X_train, left_index=True, right_index=True)\n",
    "    \n",
    "    # Creating the model requires a formula and data (and optionally a family)\n",
    "    pm.GLM.from_formula(formula, data = Data, family = family)\n",
    "    \n",
    "    # Perform Markov Chain Monte Carlo sampling\n",
    "    normal_trace = pm.sample(draws=2000, chains = 2, tune = 500) #draws=2000, chains = 2, tune = 500"
   ]
  },
  {
   "cell_type": "code",
   "execution_count": null,
   "metadata": {},
   "outputs": [],
   "source": [
    "# Shows the trace with a vertical line at the mean of the trace\n",
    "def plot_trace(trace):\n",
    "    # Traceplot with vertical lines at the mean value\n",
    "    ax = pm.traceplot(trace, figsize=(14, len(trace.varnames)*1.8),\n",
    "                      lines={k: v['mean'] for k, v in pm.summary(trace).iterrows()})\n",
    "    \n",
    "    matplotlib.rcParams['font.size'] = 16\n",
    "    \n",
    "    # Labels with the median value\n",
    "    for i, mn in enumerate(pm.summary(trace)['mean']):\n",
    "        ax[i, 0].annotate('{:0.4f}'.format(mn), xy = (mn, 0), xycoords = 'data', size = 8,\n",
    "                          xytext = (-18, 18), textcoords = 'offset points', rotation = 90,\n",
    "                          va = 'bottom', fontsize = 'large', color = 'red')"
   ]
  },
  {
   "cell_type": "code",
   "execution_count": null,
   "metadata": {},
   "outputs": [],
   "source": []
  },
  {
   "cell_type": "code",
   "execution_count": null,
   "metadata": {},
   "outputs": [],
   "source": [
    "plot_trace(normal_trace);\n",
    "# or the embedded function is : pm.traceplot(normal_trace);"
   ]
  },
  {
   "cell_type": "code",
   "execution_count": null,
   "metadata": {},
   "outputs": [],
   "source": [
    "pm.forestplot(normal_trace, figsize=(15,4));"
   ]
  },
  {
   "cell_type": "code",
   "execution_count": null,
   "metadata": {},
   "outputs": [],
   "source": [
    "pm.summary(normal_trace)"
   ]
  },
  {
   "cell_type": "code",
   "execution_count": null,
   "metadata": {},
   "outputs": [],
   "source": [
    "model_formula = 'Log10(Cu-Tx) = '\n",
    "for variable in normal_trace.varnames:\n",
    "    model_formula += ' %0.4f * %s +' % (np.mean(normal_trace[variable]), variable)\n",
    "\n",
    "' '.join(model_formula.split(' ')[:-1]).replace('n160 ','log10(N1,60)') #eliminate last '+' and add Log10 for SPT"
   ]
  },
  {
   "cell_type": "markdown",
   "metadata": {},
   "source": [
    "## We compare mae and rmse with other models"
   ]
  },
  {
   "cell_type": "markdown",
   "metadata": {},
   "source": []
  },
  {
   "cell_type": "code",
   "execution_count": null,
   "metadata": {},
   "outputs": [],
   "source": [
    "coeffs = pm.summary(normal_trace).iloc[:-1,0]\n",
    "\n",
    "clmn_coeff = coeffs.index.tolist()\n",
    "\n",
    "X_test_ = X_test.copy()\n",
    "\n",
    "X_test_[clmn_coeff[0]]=1\n",
    "X_test_ = X_test_[clmn_coeff].copy()  # ordino il dataframe con lo stesso ordine del trace\n",
    "\n",
    "resultsbayes = pd.DataFrame(index = X_test.index, columns = ['estimate'])\n",
    "\n",
    "for row in X_test_.iterrows():\n",
    "        resultsbayes.loc[row[0], 'estimate'] = np.dot(np.array(coeffs), np.array(row[1]))\n",
    "        \n",
    "resultsbayes"
   ]
  },
  {
   "cell_type": "code",
   "execution_count": null,
   "metadata": {},
   "outputs": [],
   "source": [
    "predictions = np.array(resultsbayes.estimate)\n",
    "\n",
    "# Metrics\n",
    "mae = np.mean(abs(predictions - np.array(y_test)))\n",
    "rmse = np.sqrt(np.mean((predictions - np.array(y_test)) ** 2))\n",
    "\n",
    "# Insert results into the dataframe\n",
    "model_name = 'Bayesian lr'\n",
    "results.loc[model_name, :] = [mae, rmse]\n",
    "results"
   ]
  },
  {
   "cell_type": "code",
   "execution_count": null,
   "metadata": {},
   "outputs": [],
   "source": [
    "plt.figure(figsize=(12, 8))\n",
    "matplotlib.rcParams['font.size'] = 16\n",
    "# Root mean squared error\n",
    "ax =  plt.subplot(1, 2, 1)\n",
    "results.sort_values('mae', ascending = True).plot.bar(y = 'mae', color = 'b', ax = ax)\n",
    "plt.title('Model Mean Absolute Error'); plt.ylabel('MAE');\n",
    "\n",
    "# Median absolute percentage error\n",
    "ax = plt.subplot(1, 2, 2)\n",
    "results.sort_values('rmse', ascending = True).plot.bar(y = 'rmse', color = 'r', ax = ax)\n",
    "plt.title('Model Root Mean Squared Error'); plt.ylabel('RMSE');\n",
    "\n",
    "plt.tight_layout()"
   ]
  },
  {
   "cell_type": "markdown",
   "metadata": {},
   "source": [
    "## Make Predictions from Model"
   ]
  },
  {
   "cell_type": "code",
   "execution_count": null,
   "metadata": {},
   "outputs": [],
   "source": [
    "# Make a new prediction from the test set and compare to actual value\n",
    "def test_model(trace, test_observation):\n",
    "    \n",
    "    # Print out the test observation data\n",
    "    print('Test Observation:')\n",
    "    print(test_observation)\n",
    "    \n",
    "    var_dict = {}\n",
    "    for variable in trace.varnames:\n",
    "        var_dict[variable] = trace[variable]\n",
    "\n",
    "    # Results into a dataframe\n",
    "    var_weights = pd.DataFrame(var_dict)\n",
    "    \n",
    "    # Standard deviation of the likelihood\n",
    "    sd_value = var_weights['sd'].mean()\n",
    "\n",
    "    # Actual Value\n",
    "    actual = test_observation['cutx']\n",
    "    \n",
    "    # Add in intercept term\n",
    "    test_observation['Intercept'] = 1\n",
    "    test_observation = test_observation.drop('cutx').copy()\n",
    "    \n",
    "    # Align weights and test observation\n",
    "    var_weights = var_weights[test_observation.index]\n",
    "\n",
    "    # Means for all the weights\n",
    "    var_means = var_weights.mean(axis=0)\n",
    "\n",
    "    # Location of mean for observation\n",
    "    mean_loc = np.dot(var_means, test_observation)\n",
    "    \n",
    "    # Estimates of grade\n",
    "    estimates = np.random.normal(loc = mean_loc, scale = sd_value,\n",
    "                                 size = 1000)\n",
    "\n",
    "    # Plot all the estimates\n",
    "    plt.figure(figsize=(8, 8))\n",
    "    sns.distplot(estimates, hist = True, kde = True, bins = 19,\n",
    "                 hist_kws = {'edgecolor': 'k', 'color': 'darkblue'},\n",
    "                kde_kws = {'linewidth' : 4},\n",
    "                label = 'Estimated Dist.')\n",
    "    # Plot the actual grade\n",
    "    plt.vlines(x = actual, ymin = 0, ymax = 5, \n",
    "               linestyles = '--', colors = 'red',\n",
    "               label = 'True cutx',\n",
    "              linewidth = 2.5)\n",
    "    \n",
    "    # Plot the mean estimate\n",
    "    plt.vlines(x = mean_loc, ymin = 0, ymax = 5, \n",
    "               linestyles = '-', colors = 'orange',\n",
    "               label = 'Mean Estimate',\n",
    "              linewidth = 2.5)\n",
    "    \n",
    "    plt.legend(loc = 1)\n",
    "    plt.title('Density Plot for Test Observation');\n",
    "    plt.xlabel('Grade'); plt.ylabel('Density');\n",
    "    \n",
    "    # Prediction information\n",
    "    print('True cutx = %d' % actual)\n",
    "    print('Average Estimate = %0.4f' % mean_loc)\n",
    "    print('5%% Estimate = %0.4f    95%% Estimate = %0.4f' % (np.percentile(estimates, 5),\n",
    "                                       np.percentile(estimates, 95)))"
   ]
  },
  {
   "cell_type": "code",
   "execution_count": null,
   "metadata": {},
   "outputs": [],
   "source": [
    "Data_test=y_test.merge(X_test, left_index=True, right_index=True)"
   ]
  },
  {
   "cell_type": "code",
   "execution_count": null,
   "metadata": {},
   "outputs": [],
   "source": [
    "test_model(normal_trace, Data_test.iloc[4])"
   ]
  },
  {
   "cell_type": "code",
   "execution_count": null,
   "metadata": {},
   "outputs": [],
   "source": []
  },
  {
   "cell_type": "markdown",
   "metadata": {},
   "source": [
    "## Model Variable Effects"
   ]
  },
  {
   "cell_type": "markdown",
   "metadata": {},
   "source": [
    "We can use the function pm.plot_posterior_predictive_glm to see the effect in changing one variable. This takes a range of values to use for the variable, a linear model, and a number of samples. The function evaluates the linear model across the range of values for the number of samples. Each time, it draws a different set of parameters from the trace. This gives us an indication of the effect of a single variable and also the uncertainty in the model estimates. To see the effect of a single variable, we hold the others constant at their median values."
   ]
  },
  {
   "cell_type": "code",
   "execution_count": null,
   "metadata": {},
   "outputs": [],
   "source": [
    "# Examines the effect of changing a single variable\n",
    "# Takes in the name of the variable, the trace, and the data\n",
    "\n",
    "def model_effect(query_var, trace, X):\n",
    "    \n",
    "    # Variables that do not change\n",
    "    steady_vars = list(X.columns)\n",
    "    steady_vars.remove(query_var)\n",
    "    \n",
    "    # Linear Model that estimates a grade based on the value of the query variable \n",
    "    # and one sample from the trace\n",
    "    def lm(value, sample):\n",
    "        \n",
    "        # Prediction is the estimate given a value of the query variable\n",
    "        prediction = sample['Intercept'] + sample[query_var] * value\n",
    "        \n",
    "        # Each non-query variable is assumed to be at the median value\n",
    "        for var in steady_vars:\n",
    "            \n",
    "            # Multiply the weight by the median value of the variable\n",
    "            prediction += sample[var] * X[var].median()\n",
    "        \n",
    "        return prediction\n",
    "    \n",
    "    plt.figure(figsize=(6, 6))\n",
    "    \n",
    "    # Find the minimum and maximum values for the range of the query var\n",
    "    var_min = X[query_var].min()\n",
    "    var_max = X[query_var].max()\n",
    "    \n",
    "    # Plot the estimated grade versus the range of query variable\n",
    "    pm.plot_posterior_predictive_glm(trace, eval=np.linspace(var_min, var_max, 100), \n",
    "                                     lm=lm, samples=100, color='blue', \n",
    "                                     alpha = 0.4, lw = 2)\n",
    "    \n",
    "    # Plot formatting\n",
    "    plt.xlabel('%s' % query_var, size = 16)\n",
    "    plt.ylabel('cutx', size = 16)\n",
    "    plt.title(\"Posterior of cutx vs %s\" % query_var, size = 18)\n",
    "    plt.show()"
   ]
  },
  {
   "cell_type": "code",
   "execution_count": null,
   "metadata": {},
   "outputs": [],
   "source": [
    "model_effect('ll', normal_trace, X_train)"
   ]
  },
  {
   "cell_type": "code",
   "execution_count": null,
   "metadata": {},
   "outputs": [],
   "source": [
    "model_effect('σpv', normal_trace, X_train)"
   ]
  },
  {
   "cell_type": "code",
   "execution_count": null,
   "metadata": {},
   "outputs": [],
   "source": [
    "model_effect('pi', normal_trace, X_train)"
   ]
  },
  {
   "cell_type": "code",
   "execution_count": null,
   "metadata": {},
   "outputs": [],
   "source": []
  },
  {
   "cell_type": "code",
   "execution_count": null,
   "metadata": {},
   "outputs": [],
   "source": []
  },
  {
   "cell_type": "code",
   "execution_count": null,
   "metadata": {},
   "outputs": [],
   "source": []
  },
  {
   "cell_type": "code",
   "execution_count": null,
   "metadata": {},
   "outputs": [],
   "source": []
  },
  {
   "cell_type": "markdown",
   "metadata": {},
   "source": [
    "There is some variation between the t-distribution estimates and those from the normal distribution for the data likelihood.Choosing appropriate priors is one of the hardest aspect of Bayesian Modeling, but we can get around that by having more data. As the amount of data the model learns from increases, the prior has less of an effect because each time the posterior is updated based on the new data. Essentially machine learning models perform inference with no priors, basing the final model entirely on the data. In the case of limited samples, Bayesian Inference can be a better method for building models because it provides a reasonable estimate in situations with few data points (as long as the prior is reasonable)"
   ]
  },
  {
   "cell_type": "markdown",
   "metadata": {},
   "source": [
    "# Conclusions\n",
    "\n",
    "In this notebook we looked at using Bayesian Linear Regression to predict student performance based on six factors. Rather than specify probabilities for the Bayesian network which is basically impossible for continuous variables, we framed the problem as a machine learning task. In addition to the standard machine learning models that learn from observations, we also used Bayesian Linear Regression to create a model mapping the features (student characteristics) to the targets (final grade). The advantages of Bayesian Linear Regression are that if we use sensible priors, we can still get a decent estimate with few samples, and the final weights are not a single number, but a distribution componsed of every sample drawn during the sampling run. We can then make predictions using all the sampled weights to form a distribution of expected values rather than a single answer. \n",
    "\n",
    "The Bayesian  Linear Regression did not perform as well as the other methods in terms of the two metrics we choose. This might not be the ideal case for a Bayesian inference approach but we saw that Bayesian Linear Regression produced intuitive estimates for the model weights and gave predictions for new students that align with our expectations for the factors influencing student performance. To summarize, although Bayesian Linear Regression did not outperform the standard machine learning methods, it gave us a chance to learn another tool for use in evaluating and making sense of data. It's always a positive to have more skills that you can deploy as needed!"
   ]
  },
  {
   "cell_type": "code",
   "execution_count": null,
   "metadata": {},
   "outputs": [],
   "source": []
  },
  {
   "cell_type": "markdown",
   "metadata": {},
   "source": [
    "## Additional works"
   ]
  },
  {
   "cell_type": "markdown",
   "metadata": {},
   "source": [
    "- Redo the job by plotting multy graph without log(spt) and log(cutx) in order to present the exploratory data analysis speaking about that graph\n",
    "    - Redo the analysis missing data by relating all the variables to s'v or 'z'\n",
    "    - Redo the analysis missing data by doing only the interpolate function (problema rette verticali finali)\n",
    "    - Use the best from the above (lr vs s'v for: 'pl','cuvane','cutx','SPT'\n",
    "- This is to solve the problem of inverse correlated cu-vane with cu-tx and inverse with pl that is strange\n",
    "- Redo the analysis with bayesian t-student distribution\n",
    "- Show that the Bayesian anlysis is the best we can use we we do not dispose of a lot of data\n",
    "- Take a large amount of data and do the linear regression that will show a very low error estimate\n",
    "- Take a small part of the X-test and use it to perform1:\n",
    "    - Bayesian analysis\n",
    "    - Linear Regression\n",
    "- Show that Bayesian is better than linear regression when we do not dispose of a lot of data\n",
    "    - Redo the analysis by changing the splittin part "
   ]
  }
 ],
 "metadata": {
  "kernelspec": {
   "display_name": "Python 3",
   "language": "python",
   "name": "python3"
  },
  "language_info": {
   "codemirror_mode": {
    "name": "ipython",
    "version": 3
   },
   "file_extension": ".py",
   "mimetype": "text/x-python",
   "name": "python",
   "nbconvert_exporter": "python",
   "pygments_lexer": "ipython3",
   "version": "3.7.1"
  }
 },
 "nbformat": 4,
 "nbformat_minor": 2
}
