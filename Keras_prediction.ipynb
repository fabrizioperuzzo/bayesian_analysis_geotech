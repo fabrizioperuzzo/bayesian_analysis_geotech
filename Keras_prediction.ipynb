{
 "cells": [
  {
   "cell_type": "code",
   "execution_count": 1,
   "metadata": {},
   "outputs": [
    {
     "name": "stdout",
     "output_type": "stream",
     "text": [
      "C:\\ProgramData\\Anaconda3_1\\envs\\pymc3venv\\python.exe\n"
     ]
    }
   ],
   "source": [
    "#!/usr/bin/env conda run -n pymc3venv python\n",
    "\n",
    "import sys\n",
    "print(sys.executable)    ### Shoul be this C:\\ProgramData\\Anaconda3_1\\envs\\pymc3venv\\python.exe"
   ]
  },
  {
   "cell_type": "code",
   "execution_count": 7,
   "metadata": {},
   "outputs": [
    {
     "name": "stdout",
     "output_type": "stream",
     "text": [
      "Collecting package metadata (repodata.json): ...working... done\n",
      "Solving environment: ...working... done\n",
      "\n",
      "## Package Plan ##\n",
      "\n",
      "  environment location: C:\\ProgramData\\Anaconda3_1\\envs\\pymc3venv\n",
      "\n",
      "  added / updated specs:\n",
      "    - keras\n",
      "\n",
      "\n",
      "The following packages will be downloaded:\n",
      "\n",
      "    package                    |            build\n",
      "    ---------------------------|-----------------\n",
      "    keras-2.3.1                |                0           6 KB\n",
      "    keras-base-2.3.1           |           py37_0         585 KB\n",
      "    ------------------------------------------------------------\n",
      "                                           Total:         591 KB\n",
      "\n",
      "The following NEW packages will be INSTALLED:\n",
      "\n",
      "  keras              pkgs/main/win-64::keras-2.3.1-0\n",
      "  keras-base         pkgs/main/win-64::keras-base-2.3.1-py37_0\n",
      "\n",
      "\n",
      "\n",
      "Downloading and Extracting Packages\n",
      "\n",
      "keras-base-2.3.1     | 585 KB    |            |   0% \n",
      "keras-base-2.3.1     | 585 KB    | 2          |   3% \n",
      "keras-base-2.3.1     | 585 KB    | ########## | 100% \n",
      "\n",
      "keras-2.3.1          | 6 KB      |            |   0% \n",
      "keras-2.3.1          | 6 KB      | ########## | 100% \n",
      "Preparing transaction: ...working... done\n",
      "Verifying transaction: ...working... done\n",
      "Executing transaction: ...working... done\n"
     ]
    }
   ],
   "source": [
    "!conda install --yes --prefix {sys.prefix} keras"
   ]
  },
  {
   "cell_type": "code",
   "execution_count": 10,
   "metadata": {},
   "outputs": [],
   "source": [
    "# from IPython.core.display import display, HTML\n",
    "# display(HTML(\"<style>.container { width:80% !important; }</style>\"))\n",
    "import pandas as pd\n",
    "import numpy as np\n",
    "import matplotlib.pyplot as plt\n",
    "import seaborn as sns\n",
    "from scipy.stats import percentileofscore\n",
    "from scipy import stats\n",
    "from sklearn.model_selection import train_test_split\n",
    "import h5py\n",
    "import tensorflow as tf\n",
    "from sklearn.metrics import classification_report\n",
    "\n",
    "from keras.models import Sequential\n",
    "from keras.layers import Dense\n",
    "from keras.callbacks import EarlyStopping"
   ]
  },
  {
   "cell_type": "code",
   "execution_count": 3,
   "metadata": {},
   "outputs": [],
   "source": [
    "# load data\n",
    "\n",
    "dfg = pd.read_hdf('dfg3.h5', key='losses')\n",
    "df = dfg.copy()\n",
    "df.columns = ['spv','N160','PI','LL','wn','CUvane','Plim','OCR','CuTx']"
   ]
  },
  {
   "cell_type": "code",
   "execution_count": 4,
   "metadata": {},
   "outputs": [],
   "source": [
    "# Create test train data non need to normalise\n",
    "\n",
    "X_data = df.drop('CuTx', axis=1)\n",
    "y_data = df['CuTx']\n",
    "\n",
    "# No need for this now\n",
    "X_train,X_test,y_train,y_test = train_test_split(X_data,y_data,test_size=0.7,random_state=101)"
   ]
  },
  {
   "cell_type": "code",
   "execution_count": 9,
   "metadata": {},
   "outputs": [],
   "source": [
    "# create model from class function\n",
    "model = Sequential()\n",
    "\n",
    "#get number of columns in training data\n",
    "n_cols = X_train.shape[1]\n",
    "\n",
    "#Add model layers 2 hidden layer and an output layer\n",
    "#Dense is a standard layer type that works for most cases\n",
    "#We have 10 nodes in each of our input layers (higher the better but slower)\n",
    "#‘Activation’ is a function allowing for nonlinear relationships\n",
    "#The activation function we will be using is ReLU or Rectified Linear\n",
    "#The first layer needs an input shape; n° of rows and columns in the input. \n",
    "#Note: There is nothing after the comma: indicate any amount of rows\n",
    "\n",
    "model.add(Dense(10, activation='relu', input_shape=(n_cols,)))\n",
    "model.add(Dense(10, activation='relu'))\n",
    "model.add(Dense(1))         "
   ]
  },
  {
   "cell_type": "code",
   "execution_count": 12,
   "metadata": {},
   "outputs": [],
   "source": [
    "#Compiling the model takes two parameters: optimizer and loss\n",
    "#Adam is generally a good optimizer\n",
    "#compile model using mse as a measure of model performance\n",
    "\n",
    "model.compile(optimizer='adam', loss='mean_squared_error')"
   ]
  },
  {
   "cell_type": "code",
   "execution_count": 13,
   "metadata": {},
   "outputs": [
    {
     "name": "stdout",
     "output_type": "stream",
     "text": [
      "WARNING:tensorflow:From C:\\ProgramData\\Anaconda3_1\\envs\\pymc3venv\\lib\\site-packages\\keras\\backend\\tensorflow_backend.py:422: The name tf.global_variables is deprecated. Please use tf.compat.v1.global_variables instead.\n",
      "\n",
      "Train on 323 samples, validate on 139 samples\n",
      "Epoch 1/30\n",
      "323/323 [==============================] - 0s 719us/step - loss: 26447.7708 - val_loss: 49177.2712\n",
      "Epoch 2/30\n",
      "323/323 [==============================] - 0s 43us/step - loss: 13270.7932 - val_loss: 32510.9992\n",
      "Epoch 3/30\n",
      "323/323 [==============================] - 0s 50us/step - loss: 6599.3520 - val_loss: 22705.4405\n",
      "Epoch 4/30\n",
      "323/323 [==============================] - 0s 51us/step - loss: 4688.4609 - val_loss: 18685.4084\n",
      "Epoch 5/30\n",
      "323/323 [==============================] - 0s 41us/step - loss: 4613.3806 - val_loss: 18024.3984\n",
      "Epoch 6/30\n",
      "323/323 [==============================] - 0s 37us/step - loss: 4478.7293 - val_loss: 18454.4114\n",
      "Epoch 7/30\n",
      "323/323 [==============================] - 0s 40us/step - loss: 4319.2307 - val_loss: 18503.7741\n",
      "Epoch 8/30\n",
      "323/323 [==============================] - 0s 40us/step - loss: 4218.8969 - val_loss: 18264.0165\n"
     ]
    },
    {
     "data": {
      "text/plain": [
       "<keras.callbacks.callbacks.History at 0x20c05be0208>"
      ]
     },
     "execution_count": 13,
     "metadata": {},
     "output_type": "execute_result"
    }
   ],
   "source": [
    "#Training the model\n",
    "#training data,target data,validation split, epochs and callbacks\n",
    "#The validation split training and testing\n",
    "#The number of epochs is the number of times the model will cycle through the data\n",
    "#Early stopping will stop the model from training before the number of epochs is reached if the model stops improving\n",
    "\n",
    "early_stopping_monitor = EarlyStopping(patience=3)\n",
    "\n",
    "#Train model\n",
    "\n",
    "model.fit(X_data, y_data, validation_split=0.3, epochs=30,\n",
    "         callbacks=[early_stopping_monitor])\n",
    "\n",
    "\n",
    "\n"
   ]
  },
  {
   "cell_type": "code",
   "execution_count": 15,
   "metadata": {},
   "outputs": [],
   "source": [
    "#example on how to use our newly trained model on how to make predictions on unseen data (we will pretend our new data is saved in a dataframe called 'test_X').\n",
    "\n",
    "test_y_predictions = model.predict(X_test)"
   ]
  },
  {
   "cell_type": "code",
   "execution_count": 41,
   "metadata": {},
   "outputs": [
    {
     "name": "stdout",
     "output_type": "stream",
     "text": [
      "Train on 323 samples, validate on 139 samples\n",
      "Epoch 1/30\n",
      "323/323 [==============================] - 0s 918us/step - loss: 3794.8878 - val_loss: 2429.4504\n",
      "Epoch 2/30\n",
      "323/323 [==============================] - 0s 106us/step - loss: 2040.2059 - val_loss: 938.5332\n",
      "Epoch 3/30\n",
      "323/323 [==============================] - 0s 116us/step - loss: 1208.4566 - val_loss: 996.7022\n",
      "Epoch 4/30\n",
      "323/323 [==============================] - 0s 123us/step - loss: 751.7277 - val_loss: 877.8318\n",
      "Epoch 5/30\n",
      "323/323 [==============================] - 0s 121us/step - loss: 441.1257 - val_loss: 1602.0813\n",
      "Epoch 6/30\n",
      "323/323 [==============================] - 0s 103us/step - loss: 357.1865 - val_loss: 1671.2849\n",
      "Epoch 7/30\n",
      "323/323 [==============================] - 0s 120us/step - loss: 323.2842 - val_loss: 1447.5025\n"
     ]
    },
    {
     "data": {
      "text/plain": [
       "<keras.callbacks.callbacks.History at 0x20c05c52548>"
      ]
     },
     "execution_count": 41,
     "metadata": {},
     "output_type": "execute_result"
    }
   ],
   "source": [
    "#Train a new model with increasing model capacity\n",
    "\n",
    "model_mc = Sequential()\n",
    "\n",
    "model_mc.add(Dense(200,activation='relu',input_shape=(n_cols,)))\n",
    "model_mc.add(Dense(200,activation='relu'))\n",
    "model_mc.add(Dense(200,activation='relu'))\n",
    "model_mc.add(Dense(1))\n",
    "\n",
    "model_mc.compile(optimizer='adam', loss='mean_squared_error')\n",
    "\n",
    "model_mc.fit(X_data, y_data, validation_split=0.3, epochs=30, callbacks=[early_stopping_monitor])\n"
   ]
  },
  {
   "cell_type": "code",
   "execution_count": null,
   "metadata": {},
   "outputs": [],
   "source": []
  },
  {
   "cell_type": "code",
   "execution_count": null,
   "metadata": {},
   "outputs": [],
   "source": []
  },
  {
   "cell_type": "code",
   "execution_count": null,
   "metadata": {},
   "outputs": [],
   "source": []
  },
  {
   "cell_type": "code",
   "execution_count": null,
   "metadata": {},
   "outputs": [],
   "source": []
  },
  {
   "cell_type": "code",
   "execution_count": null,
   "metadata": {},
   "outputs": [],
   "source": []
  },
  {
   "cell_type": "code",
   "execution_count": null,
   "metadata": {},
   "outputs": [],
   "source": []
  },
  {
   "cell_type": "code",
   "execution_count": null,
   "metadata": {},
   "outputs": [],
   "source": []
  },
  {
   "cell_type": "code",
   "execution_count": null,
   "metadata": {},
   "outputs": [],
   "source": []
  },
  {
   "cell_type": "code",
   "execution_count": null,
   "metadata": {},
   "outputs": [],
   "source": []
  },
  {
   "cell_type": "code",
   "execution_count": null,
   "metadata": {},
   "outputs": [],
   "source": []
  },
  {
   "cell_type": "code",
   "execution_count": null,
   "metadata": {},
   "outputs": [],
   "source": []
  },
  {
   "cell_type": "code",
   "execution_count": null,
   "metadata": {},
   "outputs": [],
   "source": []
  },
  {
   "cell_type": "code",
   "execution_count": null,
   "metadata": {},
   "outputs": [],
   "source": []
  }
 ],
 "metadata": {
  "kernelspec": {
   "display_name": "Python 3",
   "language": "python",
   "name": "python3"
  },
  "language_info": {
   "codemirror_mode": {
    "name": "ipython",
    "version": 3
   },
   "file_extension": ".py",
   "mimetype": "text/x-python",
   "name": "python",
   "nbconvert_exporter": "python",
   "pygments_lexer": "ipython3",
   "version": "3.6.9"
  }
 },
 "nbformat": 4,
 "nbformat_minor": 2
}
